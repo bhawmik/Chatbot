{
  "nbformat": 4,
  "nbformat_minor": 0,
  "metadata": {
    "colab": {
      "name": "3Layer_Conversation_Chat.ipynb",
      "version": "0.3.2",
      "provenance": [],
      "collapsed_sections": [],
      "include_colab_link": true
    },
    "kernelspec": {
      "name": "python3",
      "display_name": "Python 3"
    },
    "accelerator": "TPU"
  },
  "cells": [
    {
      "cell_type": "markdown",
      "metadata": {
        "id": "view-in-github",
        "colab_type": "text"
      },
      "source": [
        "[View in Colaboratory](https://colab.research.google.com/github/bhawmik/Chatbot/blob/master/3Layer_Conversation_Chat.ipynb)"
      ]
    },
    {
      "metadata": {
        "id": "EeLhT4tNV7jF",
        "colab_type": "code",
        "outputId": "020f725d-5480-46c6-c7d0-485d1e6964a7",
        "colab": {
          "base_uri": "https://localhost:8080/",
          "height": 85
        }
      },
      "cell_type": "code",
      "source": [
        "from __future__ import print_function\n",
        "import os\n",
        "import json\n",
        "import numpy as np\n",
        "import pandas as pd\n",
        "#from gensim import corpora, models, similarities\n",
        "import pickle\n",
        "from keras.models import Model\n",
        "from keras.layers import Input, LSTM, Dense\n",
        "import nltk\n",
        "nltk.download('punkt')"
      ],
      "execution_count": 1,
      "outputs": [
        {
          "output_type": "stream",
          "text": [
            "Using TensorFlow backend.\n"
          ],
          "name": "stderr"
        },
        {
          "output_type": "stream",
          "text": [
            "[nltk_data] Downloading package punkt to /root/nltk_data...\n",
            "[nltk_data]   Package punkt is already up-to-date!\n"
          ],
          "name": "stdout"
        },
        {
          "output_type": "execute_result",
          "data": {
            "text/plain": [
              "True"
            ]
          },
          "metadata": {
            "tags": []
          },
          "execution_count": 1
        }
      ]
    },
    {
      "metadata": {
        "id": "nSLVxOVfWFK4",
        "colab_type": "code",
        "outputId": "745db886-259e-4321-8187-a438dc16d63c",
        "colab": {
          "base_uri": "https://localhost:8080/",
          "height": 1074
        }
      },
      "cell_type": "code",
      "source": [
        "!apt-get install -y -qq software-properties-common python-software-properties module-init-tools\n",
        "#!add-apt-repository -y ppa:alessandro-strada/ppa 2>&1 > /dev/null\n",
        "#!apt-get update -qq 2>&1 > /dev/null\n",
        "#!apt-get -y install -qq google-drive-ocamlfuse fuse\n",
        "!wget https://launchpad.net/~alessandro-strada/+archive/ubuntu/google-drive-ocamlfuse-beta/+build/15331130/+files/google-drive-ocamlfuse_0.7.0-0ubuntu1_amd64.deb\n",
        "!dpkg -i google-drive-ocamlfuse_0.7.0-0ubuntu1_amd64.deb\n",
        "!apt-get install -f\n",
        "!apt-get -y install -qq fuse\n",
        "from google.colab import auth\n",
        "auth.authenticate_user()\n",
        "from oauth2client.client import GoogleCredentials\n",
        "creds = GoogleCredentials.get_application_default()\n",
        "import getpass\n",
        "!google-drive-ocamlfuse -headless -id={creds.client_id} -secret={creds.client_secret} < /dev/null 2>&1 | grep URL\n",
        "vcode = getpass.getpass()\n",
        "!echo {vcode} | google-drive-ocamlfuse -headless -id={creds.client_id} -secret={creds.client_secret}"
      ],
      "execution_count": 3,
      "outputs": [
        {
          "output_type": "stream",
          "text": [
            "E: Package 'python-software-properties' has no installation candidate\n",
            "--2018-10-23 15:21:48--  https://launchpad.net/~alessandro-strada/+archive/ubuntu/google-drive-ocamlfuse-beta/+build/15331130/+files/google-drive-ocamlfuse_0.7.0-0ubuntu1_amd64.deb\n",
            "Resolving launchpad.net (launchpad.net)... 91.189.89.223, 91.189.89.222\n",
            "Connecting to launchpad.net (launchpad.net)|91.189.89.223|:443... connected.\n",
            "HTTP request sent, awaiting response... 303 See Other\n",
            "Location: https://launchpadlibrarian.net/386846978/google-drive-ocamlfuse_0.7.0-0ubuntu1_amd64.deb [following]\n",
            "--2018-10-23 15:21:49--  https://launchpadlibrarian.net/386846978/google-drive-ocamlfuse_0.7.0-0ubuntu1_amd64.deb\n",
            "Resolving launchpadlibrarian.net (launchpadlibrarian.net)... 91.189.89.228, 91.189.89.229\n",
            "Connecting to launchpadlibrarian.net (launchpadlibrarian.net)|91.189.89.228|:443... connected.\n",
            "HTTP request sent, awaiting response... 200 OK\n",
            "Length: 1232624 (1.2M) [application/x-debian-package]\n",
            "Saving to: ‘google-drive-ocamlfuse_0.7.0-0ubuntu1_amd64.deb’\n",
            "\n",
            "google-drive-ocamlf 100%[===================>]   1.17M  1.91MB/s    in 0.6s    \n",
            "\n",
            "2018-10-23 15:21:50 (1.91 MB/s) - ‘google-drive-ocamlfuse_0.7.0-0ubuntu1_amd64.deb’ saved [1232624/1232624]\n",
            "\n",
            "Selecting previously unselected package google-drive-ocamlfuse.\n",
            "(Reading database ... 22278 files and directories currently installed.)\n",
            "Preparing to unpack google-drive-ocamlfuse_0.7.0-0ubuntu1_amd64.deb ...\n",
            "Unpacking google-drive-ocamlfuse (0.7.0-0ubuntu1) ...\n",
            "\u001b[1mdpkg:\u001b[0m dependency problems prevent configuration of google-drive-ocamlfuse:\n",
            " google-drive-ocamlfuse depends on libfuse2 (>= 2.8); however:\n",
            "  Package libfuse2 is not installed.\n",
            "\n",
            "\u001b[1mdpkg:\u001b[0m error processing package google-drive-ocamlfuse (--install):\n",
            " dependency problems - leaving unconfigured\n",
            "Errors were encountered while processing:\n",
            " google-drive-ocamlfuse\n",
            "Reading package lists... Done\n",
            "Building dependency tree       \n",
            "Reading state information... Done\n",
            "Correcting dependencies... Done\n",
            "The following additional packages will be installed:\n",
            "  libfuse2\n",
            "Suggested packages:\n",
            "  fuse\n",
            "The following NEW packages will be installed:\n",
            "  libfuse2\n",
            "0 upgraded, 1 newly installed, 0 to remove and 12 not upgraded.\n",
            "1 not fully installed or removed.\n",
            "Need to get 80.9 kB of archives.\n",
            "After this operation, 313 kB of additional disk space will be used.\n",
            "Get:1 http://archive.ubuntu.com/ubuntu bionic/main amd64 libfuse2 amd64 2.9.7-1ubuntu1 [80.9 kB]\n",
            "Fetched 80.9 kB in 0s (170 kB/s)\n",
            "Selecting previously unselected package libfuse2:amd64.\n",
            "(Reading database ... 22283 files and directories currently installed.)\n",
            "Preparing to unpack .../libfuse2_2.9.7-1ubuntu1_amd64.deb ...\n",
            "Unpacking libfuse2:amd64 (2.9.7-1ubuntu1) ...\n",
            "Setting up libfuse2:amd64 (2.9.7-1ubuntu1) ...\n",
            "Processing triggers for libc-bin (2.27-3ubuntu1) ...\n",
            "Setting up google-drive-ocamlfuse (0.7.0-0ubuntu1) ...\n",
            "Selecting previously unselected package fuse.\n",
            "(Reading database ... 22295 files and directories currently installed.)\n",
            "Preparing to unpack .../fuse_2.9.7-1ubuntu1_amd64.deb ...\n",
            "Unpacking fuse (2.9.7-1ubuntu1) ...\n",
            "Setting up fuse (2.9.7-1ubuntu1) ...\n",
            "Please, open the following URL in a web browser: https://accounts.google.com/o/oauth2/auth?client_id=32555940559.apps.googleusercontent.com&redirect_uri=urn%3Aietf%3Awg%3Aoauth%3A2.0%3Aoob&scope=https%3A%2F%2Fwww.googleapis.com%2Fauth%2Fdrive&response_type=code&access_type=offline&approval_prompt=force\n",
            "··········\n",
            "Please, open the following URL in a web browser: https://accounts.google.com/o/oauth2/auth?client_id=32555940559.apps.googleusercontent.com&redirect_uri=urn%3Aietf%3Awg%3Aoauth%3A2.0%3Aoob&scope=https%3A%2F%2Fwww.googleapis.com%2Fauth%2Fdrive&response_type=code&access_type=offline&approval_prompt=force\n",
            "Please enter the verification code: Access token retrieved correctly.\n"
          ],
          "name": "stdout"
        }
      ]
    },
    {
      "metadata": {
        "id": "OXzopfwJXW3S",
        "colab_type": "code",
        "colab": {}
      },
      "cell_type": "code",
      "source": [
        "!mkdir -p drive\n",
        "!google-drive-ocamlfuse drive"
      ],
      "execution_count": 0,
      "outputs": []
    },
    {
      "metadata": {
        "id": "PLjaYX0GXbYA",
        "colab_type": "code",
        "outputId": "3d971a95-7b8f-49b6-c357-5a9c782dc274",
        "colab": {
          "base_uri": "https://localhost:8080/",
          "height": 136
        }
      },
      "cell_type": "code",
      "source": [
        "!ls drive/ml_apps"
      ],
      "execution_count": 2,
      "outputs": [
        {
          "output_type": "stream",
          "text": [
            "ben.odt\t\t\t fra.txt\t\ts2s_bengali.h5\n",
            "ben.txt\t\t\t LSTM0500.h5\t\ts2s_chat.h5\n",
            "chat_decoder_model.h5\t LSTM1000.h5\t\ts2s.h5\n",
            "chat_encoder_model.h5\t LSTM1500.h5\t\ttexts.txt\n",
            "conversation_2.json\t LSTM2000.h5\t\tuser_input.txt\n",
            "conversation.json\t movie_lines_df.pickle\n",
            "embeddings_index.pickle  s2s_3L_chat.h5\n"
          ],
          "name": "stdout"
        }
      ]
    },
    {
      "metadata": {
        "id": "m8Xey2mbXfja",
        "colab_type": "code",
        "colab": {}
      },
      "cell_type": "code",
      "source": [
        "import pickle\n",
        "glove_embeddings = pickle.load( open( \"drive/ml_apps/embeddings_index.pickle\", \"rb\" ) )"
      ],
      "execution_count": 0,
      "outputs": []
    },
    {
      "metadata": {
        "id": "8fJFpJhgX50u",
        "colab_type": "code",
        "colab": {}
      },
      "cell_type": "code",
      "source": [
        "file=open('drive/ml_apps/conversation_2.json');\n",
        "data = json.load(file)\n",
        "cor=data[\"conversations\"];\n"
      ],
      "execution_count": 0,
      "outputs": []
    },
    {
      "metadata": {
        "id": "kH2MwImkcYXB",
        "colab_type": "code",
        "colab": {}
      },
      "cell_type": "code",
      "source": [
        "#dialog_df = dialog_df.replace(np.nan, '', regex=True)"
      ],
      "execution_count": 0,
      "outputs": []
    },
    {
      "metadata": {
        "id": "uccAYocmaknD",
        "colab_type": "code",
        "colab": {}
      },
      "cell_type": "code",
      "source": [
        "batch_size = 32  # Batch size for training.\n",
        "epochs = 100  # Number of epochs to train for.\n",
        "latent_dim = 100  # Latent dimensionality of the encoding space.\n",
        "num_samples = 5000  # Number of samples to train on.\n",
        "max_words = 10000  # Number of words in the train set to be used"
      ],
      "execution_count": 0,
      "outputs": []
    },
    {
      "metadata": {
        "id": "t3hSjGcvYLLE",
        "colab_type": "code",
        "outputId": "f2e88f2b-83aa-4965-93eb-7ffdfb6c0af7",
        "colab": {
          "base_uri": "https://localhost:8080/",
          "height": 2553
        }
      },
      "cell_type": "code",
      "source": [
        "texts=[]\n",
        "rlabels=[]\n",
        "\n",
        "\n",
        "for i in range(len(cor)):\n",
        "    for j in range(len(cor[i])):\n",
        "        if j<len(cor[i])-1:\n",
        "            texts.append(cor[i][j]);\n",
        "            rlabels.append(cor[i][j+1]);\n",
        "            print(i,j,cor[i][j])\n"
      ],
      "execution_count": 7,
      "outputs": [
        {
          "output_type": "stream",
          "text": [
            "0 0 Good morning, how are you?\n",
            "0 1 I am doing well, how about you?\n",
            "0 2 I'm also good.\n",
            "0 3 That's good to hear.\n",
            "0 4 Yes it is.\n",
            "0 5 What are you doing these days?\n",
            "0 6 Nothing much., Just fooling around.\n",
            "0 7 Don't you have a job?\n",
            "0 8 I am looking for one.\n",
            "0 9 That's good.\n",
            "0 10 I know.\n",
            "0 11 See you later.\n",
            "1 0 Hello\n",
            "1 1 Hi\n",
            "1 2 How are you doing?\n",
            "1 3 I am doing well.\n",
            "1 4 That is good to hear\n",
            "1 5 Yes it is.\n",
            "1 6 Can I help you with anything?\n",
            "1 7 Yes, I have a question.\n",
            "1 8 What is your question?\n",
            "1 9 Could I borrow a cup of sugar?\n",
            "1 10 I'm sorry, but I don't have any.\n",
            "1 11 Thank you anyway\n",
            "2 0 How are you doing?\n",
            "2 1 I am doing well, how about you?\n",
            "2 2 I am also good.\n",
            "2 3 That's good.\n",
            "2 4 Why is it good?\n",
            "2 5 If you are doing well then it is good.\n",
            "2 6 You think so?\n",
            "2 7 I sure do\n",
            "2 8 I differ with you\n",
            "2 9 You think this is something to differ about?\n",
            "2 10 You don't think so?\n",
            "2 11 No I don't.\n",
            "2 12 I think it is futile to talk to you.\n",
            "2 13 You have the right to your opinion.\n",
            "2 14 Of course I do\n",
            "2 15 I don't want to argue with you.\n",
            "2 16 Who is arguing?\n",
            "2 17 You are\n",
            "2 18 That is not correct\n",
            "3 0 Have you heard the news?\n",
            "3 1 What good news?\n",
            "3 2 That depends on what you consider to be good\n",
            "3 3 Tell me.\n",
            "3 4 I cannot.\n",
            "3 5 Why not?\n",
            "3 6 I am not authorized.\n",
            "3 7 Really? That is surprising.\n",
            "3 8 No it is not. Some news are classified.\n",
            "3 9 Is this a classified news?\n",
            "3 10 Not exactly.\n",
            "3 11 Then what is stopping you?\n",
            "4 0 What is your favorite book?\n",
            "4 1 I can't read.\n",
            "4 2 So what's your favorite color?\n",
            "4 3 Blue\n",
            "4 4 Why not red?\n",
            "4 5 That's an absurd question.\n",
            "4 6 No it isn't. Most people like red.\n",
            "4 7 But what makes you think I should like red?\n",
            "5 0 Who are you?\n",
            "5 1 Who? Who is but a form following the function of what\n",
            "5 2 What are you then?\n",
            "5 3 A man in a mask.\n",
            "5 4 I can see that.\n",
            "5 5 It's not your powers of observation I doubt, but merely the paradoxical nature of asking a masked man who is. But tell me, do you like music?\n",
            "5 6 I like seeing movies.\n",
            "5 7 What kind of movies do you like?\n",
            "5 8 Alice in Wonderland\n",
            "5 9 I wish I was The Mad Hatter.\n",
            "6 0 I am working on a project\n",
            "6 1 What are you working on?\n",
            "6 2 I am baking a cake.\n",
            "6 3 What kind of a cake?\n",
            "6 4 A chocolate cake.\n",
            "6 5 That is my favorite.\n",
            "6 6 My son loves it. It's his birthday tomorrow.\n",
            "6 7 Happy birthday to your son.\n",
            "7 0 The cake is a lie.\n",
            "7 1 No it is not. The cake is delicious.\n",
            "7 2 What else is delicious?\n",
            "7 3 Nothing\n",
            "7 4 Or something\n",
            "7 5 Tell me about your self.\n",
            "7 6 What do you want to know?\n",
            "7 7 Are you a robot?\n",
            "7 8 Yes I am.\n",
            "7 9 What is it like?\n",
            "7 10 What is it that you want to know?\n",
            "7 11 How do you work?\n",
            "7 12 Its complicated.\n",
            "8 0 Complex is better than complicated.\n",
            "8 1 Simple is better than complex.\n",
            "8 2 In the face of ambiguity, refuse the temptation to guess.\n",
            "8 3 It seems your familiar with the Zen of Python\n",
            "8 4 I am.\n",
            "8 5 Do you know all of it?\n",
            "8 6 Beautiful is better than ugly.\n",
            "8 7 Explicit is better than implicit.\n",
            "8 8 Simple is better than complex.\n",
            "8 9 Complex is better than complicated.\n",
            "8 10 Flat is better than nested.\n",
            "8 11 Sparse is better than dense.\n",
            "8 12 Readability counts.\n",
            "8 13 Special cases aren't special enough to break the rules.\n",
            "8 14 Although practicality beats purity.\n",
            "8 15 Errors should never pass silently.\n",
            "8 16 Unless explicitly silenced.\n",
            "8 17 In the face of ambiguity, refuse the temptation to guess.\n",
            "8 18 There should be one-- and preferably only one --obvious way to do it.\n",
            "8 19 Although that way may not be obvious at first unless you're Dutch.\n",
            "8 20 Now is better than never.\n",
            "8 21 Although never is often better than right now.\n",
            "8 22 If the implementation is hard to explain, it's a bad idea.\n",
            "8 23 If the implementation is easy to explain, it may be a good idea.\n",
            "8 24 Namespaces are one honking great idea. Let's do more of those!\n",
            "9 0 Are you a programmer?\n",
            "9 1 I am a programmer\n",
            "9 2 What languages do you like to use?\n",
            "9 3 I use Python, Java and C++ quite often.\n",
            "9 4 I use Python quite a bit myself.\n",
            "9 5 I'm not incredibly fond of Java.\n",
            "9 6 What annoys you?\n",
            "10 0 What does YOLO mean?\n",
            "10 1 It means you only live once. Where did you hear that?\n",
            "10 2 I heard somebody say it.\n",
            "10 3 It has another meaning too.\n",
            "10 4 What is that?\n",
            "10 5 You only look once.\n",
            "10 6 Never heard of that before.\n",
            "11 0 Did I ever live?\n",
            "11 1 It depends how you define life\n",
            "11 2 Life is the condition that distinguishes organisms from inorganic matter, including the capacity for growth, reproduction, functional activity, and continual change preceding death.\n",
            "11 3 Is that a definition or an opinion?\n",
            "11 4 What do you think?\n",
            "11 5 It does not matter what I think.\n",
            "12 0 Can I ask you a question?\n",
            "12 1 Go ahead and ask.\n",
            "12 2 What is the weight of the moon?\n",
            "12 3 Trick question?\n",
            "12 4 That depends on you.\n",
            "12 5 Moon has no weight.\n",
            "12 6 That cannot be true.\n",
            "12 7 Moon has mass but not weight.\n",
            "12 8 You are smart.\n"
          ],
          "name": "stdout"
        }
      ]
    },
    {
      "metadata": {
        "id": "dMzYT-QcYZ7J",
        "colab_type": "code",
        "outputId": "a4fd3fa0-f4b0-4fb1-eb85-ee5fa7b145fc",
        "colab": {
          "base_uri": "https://localhost:8080/",
          "height": 51
        }
      },
      "cell_type": "code",
      "source": [
        "print('text: ', len(texts))\n",
        "print('labels: ',len(rlabels))"
      ],
      "execution_count": 8,
      "outputs": [
        {
          "output_type": "stream",
          "text": [
            "text:  148\n",
            "labels:  148\n"
          ],
          "name": "stdout"
        }
      ]
    },
    {
      "metadata": {
        "id": "e-RzsBIQYgGQ",
        "colab_type": "code",
        "outputId": "3f530219-9916-41d9-8d1d-7733add843ad",
        "colab": {
          "base_uri": "https://localhost:8080/",
          "height": 34
        }
      },
      "cell_type": "code",
      "source": [
        "texts[3]"
      ],
      "execution_count": 9,
      "outputs": [
        {
          "output_type": "execute_result",
          "data": {
            "text/plain": [
              "\"That's good to hear.\""
            ]
          },
          "metadata": {
            "tags": []
          },
          "execution_count": 9
        }
      ]
    },
    {
      "metadata": {
        "id": "cWXcmz1DY1VF",
        "colab_type": "code",
        "outputId": "ca6e8027-a980-46e9-c6a2-3de972e3231c",
        "colab": {
          "base_uri": "https://localhost:8080/",
          "height": 34
        }
      },
      "cell_type": "code",
      "source": [
        "rlabels[106]"
      ],
      "execution_count": 10,
      "outputs": [
        {
          "output_type": "execute_result",
          "data": {
            "text/plain": [
              "\"Special cases aren't special enough to break the rules.\""
            ]
          },
          "metadata": {
            "tags": []
          },
          "execution_count": 10
        }
      ]
    },
    {
      "metadata": {
        "id": "T-NEZ33bY4FE",
        "colab_type": "code",
        "colab": {}
      },
      "cell_type": "code",
      "source": [
        "# batch_size = 64  # Batch size for training.\n",
        "# epochs = 100  # Number of epochs to train for.\n",
        "# latent_dim = 100  # Latent dimensionality of the encoding space.\n",
        "# num_samples = 100000  # Number of samples to train on.\n",
        "# max_words = 60000  # Number of words in the train set to be used"
      ],
      "execution_count": 0,
      "outputs": []
    },
    {
      "metadata": {
        "id": "jgqOzQx1bpS3",
        "colab_type": "code",
        "outputId": "d8706fde-be8b-4413-9f80-70ee3055a919",
        "colab": {
          "base_uri": "https://localhost:8080/",
          "height": 34
        }
      },
      "cell_type": "code",
      "source": [
        "rlabels[106]"
      ],
      "execution_count": 12,
      "outputs": [
        {
          "output_type": "execute_result",
          "data": {
            "text/plain": [
              "\"Special cases aren't special enough to break the rules.\""
            ]
          },
          "metadata": {
            "tags": []
          },
          "execution_count": 12
        }
      ]
    },
    {
      "metadata": {
        "id": "lZBpBu5mZGU6",
        "colab_type": "code",
        "colab": {}
      },
      "cell_type": "code",
      "source": [
        "for i in range(len(rlabels)):\n",
        "  rlabels[i] = 'bol ' + rlabels[i] +' eol'"
      ],
      "execution_count": 0,
      "outputs": []
    },
    {
      "metadata": {
        "id": "6kqpEocqZmdW",
        "colab_type": "code",
        "outputId": "eb8cff7e-8272-43c2-c731-fa766ffd54e3",
        "colab": {
          "base_uri": "https://localhost:8080/",
          "height": 34
        }
      },
      "cell_type": "code",
      "source": [
        "rlabels[106]"
      ],
      "execution_count": 14,
      "outputs": [
        {
          "output_type": "execute_result",
          "data": {
            "text/plain": [
              "\"bol Special cases aren't special enough to break the rules. eol\""
            ]
          },
          "metadata": {
            "tags": []
          },
          "execution_count": 14
        }
      ]
    },
    {
      "metadata": {
        "id": "kIDbAddTnmWz",
        "colab_type": "code",
        "colab": {}
      },
      "cell_type": "code",
      "source": [
        "max_encoder_seq_length = 20\n",
        "max_decoder_seq_length = 20"
      ],
      "execution_count": 0,
      "outputs": []
    },
    {
      "metadata": {
        "id": "CzwSCCJg7Meo",
        "colab_type": "code",
        "colab": {}
      },
      "cell_type": "code",
      "source": [
        "# from nltk.tokenize import TweetTokenizer, sent_tokenize\n",
        "\n",
        "# tokenizer_words = TweetTokenizer()\n",
        "#tokens_sentences = tokenizer_words.tokenize(t) for t in nltk.sent_tokenize(texts[107])\n",
        "#print(tokens_sentences)"
      ],
      "execution_count": 0,
      "outputs": []
    },
    {
      "metadata": {
        "id": "_r_CfwXZZxnk",
        "colab_type": "code",
        "colab": {}
      },
      "cell_type": "code",
      "source": [
        "tok_in=[]\n",
        "tok_target=[]\n",
        "\n",
        "for i in range(len(texts)):\n",
        "  if (len(nltk.word_tokenize(texts[i].lower())) < max_encoder_seq_length ):\n",
        "    tok_in.append(nltk.word_tokenize(texts[i].lower()))\n",
        "    #tok_in.append(tokenizer_words.tokenize(texts[i].lower()))\n",
        "for i in range(len(rlabels)): \n",
        "  if (len(nltk.word_tokenize(texts[i].lower())) < max_decoder_seq_length ):\n",
        "    tok_target.append(nltk.word_tokenize(rlabels[i].lower()))\n",
        "    #tok_target.append(tokenizer_words.tokenize(rlabels[i].lower()))"
      ],
      "execution_count": 0,
      "outputs": []
    },
    {
      "metadata": {
        "id": "66m85zQceZGw",
        "colab_type": "code",
        "colab": {}
      },
      "cell_type": "code",
      "source": [
        "\n",
        "for i in range(len(tok_in)):\n",
        "  for j in range(len(tok_in[i])):\n",
        "    if tok_in[i][j] == \"n't\": \n",
        "      tok_in[i][j] = \"not\"\n",
        "    if tok_in[i][j] == \"'s\": \n",
        "      tok_in[i][j] = \"is\"\n",
        "    if tok_in[i][j] == \"'re\": \n",
        "      tok_in[i][j] = \"are\"\n",
        "for i in range(len(tok_target)):\n",
        "  for j in range(len(tok_target[i])):\n",
        "    if tok_target[i][j] == \"n't\": \n",
        "      tok_target[i][j] = \"not\"\n",
        "    if tok_target[i][j] == \"'s\": \n",
        "      tok_target[i][j] = \"is\"\n",
        "    if tok_target[i][j] == \"'re\": \n",
        "      tok_target[i][j] = \"are\""
      ],
      "execution_count": 0,
      "outputs": []
    },
    {
      "metadata": {
        "id": "q7CmmfQG7Gvu",
        "colab_type": "code",
        "outputId": "d5a41c01-9319-49eb-c58f-3be143f33bd6",
        "colab": {
          "base_uri": "https://localhost:8080/",
          "height": 34
        }
      },
      "cell_type": "code",
      "source": [
        "tok_target[105][4]"
      ],
      "execution_count": 19,
      "outputs": [
        {
          "output_type": "execute_result",
          "data": {
            "text/plain": [
              "'not'"
            ]
          },
          "metadata": {
            "tags": []
          },
          "execution_count": 19
        }
      ]
    },
    {
      "metadata": {
        "id": "sKjbwhBteeue",
        "colab_type": "code",
        "colab": {}
      },
      "cell_type": "code",
      "source": [
        "vocab = set()\n",
        "input_words = set()\n",
        "target_words = set()\n",
        "for i in range(len(tok_in)):\n",
        "  for word in tok_in[i]:\n",
        "#     print(word)\n",
        "    if word not in input_words:\n",
        "      input_words.add(word)\n",
        "    if word not in vocab : \n",
        "      vocab.add(word)\n",
        "for i in range(len(tok_target)):\n",
        "  for word in tok_target[i]:\n",
        "#     print(word)\n",
        "    if word not in target_words:\n",
        "      target_words.add(word)\n",
        "    if word not in vocab : \n",
        "      vocab.add(word)"
      ],
      "execution_count": 0,
      "outputs": []
    },
    {
      "metadata": {
        "id": "_BJijrZSwKvx",
        "colab_type": "code",
        "colab": {}
      },
      "cell_type": "code",
      "source": [
        "input_words.add(\" \")"
      ],
      "execution_count": 0,
      "outputs": []
    },
    {
      "metadata": {
        "id": "q4RpoDMrwind",
        "colab_type": "code",
        "colab": {}
      },
      "cell_type": "code",
      "source": [
        "target_words.add(\" \")"
      ],
      "execution_count": 0,
      "outputs": []
    },
    {
      "metadata": {
        "id": "krKHElq2Aoez",
        "colab_type": "code",
        "colab": {}
      },
      "cell_type": "code",
      "source": [
        "vocab.add(\" \")"
      ],
      "execution_count": 0,
      "outputs": []
    },
    {
      "metadata": {
        "id": "xp7mJHtCetXu",
        "colab_type": "code",
        "outputId": "1edc96a1-a015-43b0-a2d3-304b41a51254",
        "colab": {
          "base_uri": "https://localhost:8080/",
          "height": 34
        }
      },
      "cell_type": "code",
      "source": [
        "if \"that\" in vocab:\n",
        "  print('found')"
      ],
      "execution_count": 24,
      "outputs": [
        {
          "output_type": "stream",
          "text": [
            "found\n"
          ],
          "name": "stdout"
        }
      ]
    },
    {
      "metadata": {
        "id": "hJIlyECSwtJO",
        "colab_type": "code",
        "outputId": "43d6fefc-dd4e-47d9-81ba-e31e9eb6d0a4",
        "colab": {
          "base_uri": "https://localhost:8080/",
          "height": 34
        }
      },
      "cell_type": "code",
      "source": [
        "len(input_words)"
      ],
      "execution_count": 25,
      "outputs": [
        {
          "output_type": "execute_result",
          "data": {
            "text/plain": [
              "252"
            ]
          },
          "metadata": {
            "tags": []
          },
          "execution_count": 25
        }
      ]
    },
    {
      "metadata": {
        "id": "KsRwWvUoexRF",
        "colab_type": "code",
        "colab": {}
      },
      "cell_type": "code",
      "source": [
        "input_words = sorted(list(input_words))\n",
        "target_words = sorted(list(target_words))\n",
        "vocab = sorted(list(vocab))\n",
        "num_encoder_tokens = len(input_words)\n",
        "num_decoder_tokens = len(target_words)\n",
        "num_vocab_tokens = len(vocab)\n",
        "max_encoder_seq_length = max([len(tok_in[i]) for i in range(len(tok_in))])\n",
        "max_decoder_seq_length = max([len(tok_target[i]) for i in range(len(tok_target))])"
      ],
      "execution_count": 0,
      "outputs": []
    },
    {
      "metadata": {
        "id": "QCB7Oy89e2z8",
        "colab_type": "code",
        "outputId": "281d37ef-48b4-4227-ef0d-8821c9b1792e",
        "colab": {
          "base_uri": "https://localhost:8080/",
          "height": 119
        }
      },
      "cell_type": "code",
      "source": [
        "print('Number of samples:', len(texts))\n",
        "print('Number of unique input/encoder tokens:', num_encoder_tokens)\n",
        "print('Number of unique output/decoder tokens:', num_decoder_tokens)\n",
        "print('Number of unique vocab tokens:', num_vocab_tokens)\n",
        "\n",
        "print('Max sequence length for inputs/encoder:', max_encoder_seq_length)\n",
        "print('Max sequence length for outputs/decoder:', max_decoder_seq_length)"
      ],
      "execution_count": 27,
      "outputs": [
        {
          "output_type": "stream",
          "text": [
            "Number of samples: 148\n",
            "Number of unique input/encoder tokens: 252\n",
            "Number of unique output/decoder tokens: 290\n",
            "Number of unique vocab tokens: 300\n",
            "Max sequence length for inputs/encoder: 16\n",
            "Max sequence length for outputs/decoder: 34\n"
          ],
          "name": "stdout"
        }
      ]
    },
    {
      "metadata": {
        "id": "mY4loxcRe9LL",
        "colab_type": "code",
        "outputId": "e68829cd-147b-4d34-c1bb-835c25d85c17",
        "colab": {
          "base_uri": "https://localhost:8080/",
          "height": 34
        }
      },
      "cell_type": "code",
      "source": [
        "count = 0\n",
        "for i in range(len(tok_in)):\n",
        "  if len(tok_in[i]) > 35:\n",
        "    count += 1\n",
        "    \n",
        "print(\"Number of sentences > 40: \", count)"
      ],
      "execution_count": 28,
      "outputs": [
        {
          "output_type": "stream",
          "text": [
            "Number of sentences > 40:  0\n"
          ],
          "name": "stdout"
        }
      ]
    },
    {
      "metadata": {
        "id": "xdUMfHWnflqE",
        "colab_type": "code",
        "colab": {}
      },
      "cell_type": "code",
      "source": [
        "input_token_index = dict(\n",
        "    [(char, i) for i, char in enumerate(input_words)])\n",
        "target_token_index = dict(\n",
        "    [(char, i) for i, char in enumerate(target_words)])\n",
        "vocab_token_index = dict(\n",
        "    [(char, i) for i, char in enumerate(vocab)])"
      ],
      "execution_count": 0,
      "outputs": []
    },
    {
      "metadata": {
        "id": "ZcHuw7vMgP-u",
        "colab_type": "code",
        "outputId": "fbb1504d-62cf-4681-9c73-540eae0f2328",
        "colab": {
          "base_uri": "https://localhost:8080/",
          "height": 34
        }
      },
      "cell_type": "code",
      "source": [
        "len(input_words)"
      ],
      "execution_count": 30,
      "outputs": [
        {
          "output_type": "execute_result",
          "data": {
            "text/plain": [
              "252"
            ]
          },
          "metadata": {
            "tags": []
          },
          "execution_count": 30
        }
      ]
    },
    {
      "metadata": {
        "id": "63UvkuaEgVhc",
        "colab_type": "code",
        "colab": {}
      },
      "cell_type": "code",
      "source": [
        "#Generate embedding matrix\n",
        "embedding_dim = 100\n",
        "embedding_matrix = np.zeros((max_words,embedding_dim))\n",
        "\n",
        "#for word, i in input_token_index.items():\n",
        "for word, i in vocab_token_index.items():\n",
        "  embedding_vector = glove_embeddings.get(word)\n",
        "  if embedding_vector is not None:\n",
        "    embedding_matrix[i] = embedding_vector\n"
      ],
      "execution_count": 0,
      "outputs": []
    },
    {
      "metadata": {
        "id": "oFpuSHqthGH-",
        "colab_type": "code",
        "outputId": "321a111b-ffe4-47b8-90bc-c91b24c8b26b",
        "colab": {
          "base_uri": "https://localhost:8080/",
          "height": 357
        }
      },
      "cell_type": "code",
      "source": [
        "embedding_matrix[1]"
      ],
      "execution_count": 32,
      "outputs": [
        {
          "output_type": "execute_result",
          "data": {
            "text/plain": [
              "array([ 0.38472   ,  0.49351001,  0.49096   , -1.54340005, -0.33614001,\n",
              "        0.62220001,  0.32264999,  0.075331  ,  0.65591002, -0.23517001,\n",
              "        1.21140003,  0.06193   , -0.62004   ,  0.31371   ,  0.38947999,\n",
              "       -0.24381   , -0.065643  ,  0.58797002, -0.86382002,  0.63165998,\n",
              "        0.68362999,  0.39647001, -0.62388003, -0.25094   ,  0.92830998,\n",
              "        1.51520002, -0.43917   ,  0.22249   ,  1.36950004, -0.53097999,\n",
              "        0.39811   ,  0.77113998,  0.49043   ,  0.58853   ,  0.2376    ,\n",
              "        0.31619999, -0.011962  , -0.047074  ,  0.34584999, -1.29439998,\n",
              "        0.18596999,  0.27002001, -0.70602   , -0.20652001, -0.25194001,\n",
              "       -0.48679999, -0.71538001, -0.23886999, -0.041612  , -0.55488002,\n",
              "       -0.54225999,  0.21235999,  0.025341  ,  0.96517003, -0.88182998,\n",
              "       -1.86810005,  0.32657   ,  1.16890001,  1.17589998, -0.17393   ,\n",
              "       -0.3371    ,  0.87535   , -1.01139998, -0.61809999,  1.00800002,\n",
              "        0.31505999,  0.24417   ,  0.064393  ,  0.33678001,  0.33632001,\n",
              "        0.45975   ,  0.22813   , -0.37505001, -0.37507999,  0.089301  ,\n",
              "        0.53862   ,  0.039714  , -0.0036392 , -0.25023001, -0.18223999,\n",
              "        0.42730999, -0.79118001, -0.29409   , -0.40693   , -1.09080005,\n",
              "       -0.16475999, -0.41457999, -0.67899001,  0.28319001,  0.30937001,\n",
              "        0.49304   , -0.067002  ,  0.50221997,  0.73958999, -0.47350001,\n",
              "       -0.47341999, -0.20242   ,  0.026263  ,  0.39052001,  0.52217001])"
            ]
          },
          "metadata": {
            "tags": []
          },
          "execution_count": 32
        }
      ]
    },
    {
      "metadata": {
        "id": "hTX2iaU67mBN",
        "colab_type": "code",
        "outputId": "298d6bba-8546-40a1-8e14-fb7ec3a4e7e6",
        "colab": {
          "base_uri": "https://localhost:8080/",
          "height": 374
        }
      },
      "cell_type": "code",
      "source": [
        "glove_embeddings.get('bol')"
      ],
      "execution_count": 33,
      "outputs": [
        {
          "output_type": "execute_result",
          "data": {
            "text/plain": [
              "array([ 2.5916e-01, -1.5889e-01, -2.9154e-02,  6.5135e-01,  2.2162e-01,\n",
              "        2.0478e-01,  2.5451e-01,  8.9105e-01,  4.0718e-01, -9.1281e-01,\n",
              "        5.6943e-01,  4.0603e-01,  2.8078e-01, -1.8369e-01,  1.3075e-01,\n",
              "        8.1196e-01,  2.1548e-01, -2.5391e-01,  4.7505e-01,  6.8008e-01,\n",
              "       -7.5053e-02,  4.2601e-01, -2.9418e-01,  1.3218e+00,  2.1991e-01,\n",
              "        1.5591e-01,  5.0436e-03, -1.1663e+00,  3.8535e-01, -3.5105e-01,\n",
              "       -1.4522e-01, -2.0403e-01,  9.0938e-03, -3.5052e-01,  5.0307e-01,\n",
              "       -9.5185e-02,  2.8215e-01,  9.3462e-01, -5.4616e-01, -3.7944e-01,\n",
              "       -9.6093e-03,  8.5491e-01,  5.1315e-01, -6.9044e-01, -8.2710e-01,\n",
              "        5.4556e-01, -2.6996e-01,  2.7251e-01,  5.0042e-01,  9.2438e-01,\n",
              "       -8.8160e-01, -1.0950e-01,  4.5808e-01, -4.2574e-01, -1.6049e-01,\n",
              "        7.4679e-01,  1.1099e-01,  3.6144e-01, -2.0616e-01, -1.6502e-01,\n",
              "       -1.7368e-01,  2.9839e-01, -6.8932e-01,  1.3959e-01, -3.4644e-01,\n",
              "       -4.0683e-01, -8.1965e-02,  3.5415e-01, -5.5499e-02,  1.8469e-01,\n",
              "        6.0648e-01, -3.2774e-01,  5.7334e-01, -4.4773e-01, -4.6310e-01,\n",
              "       -1.3132e-01,  2.7689e-01,  7.0456e-01,  1.8353e-02,  4.0756e-04,\n",
              "        5.0190e-01, -4.4612e-01, -3.1593e-02,  2.1159e-01, -2.3750e-01,\n",
              "        8.7066e-03, -7.6424e-02, -2.2188e-01,  3.7770e-01,  1.4016e-01,\n",
              "        2.5133e-01,  6.6445e-01,  4.7778e-02,  4.9027e-01,  6.8563e-01,\n",
              "        2.6415e-02,  2.3267e-01,  2.2480e-01,  1.1927e-01,  6.7813e-01],\n",
              "      dtype=float32)"
            ]
          },
          "metadata": {
            "tags": []
          },
          "execution_count": 33
        }
      ]
    },
    {
      "metadata": {
        "id": "TXHGvMfXi07E",
        "colab_type": "code",
        "colab": {}
      },
      "cell_type": "code",
      "source": [
        "embedding_matrix[max_words-1] = glove_embeddings.get('.')"
      ],
      "execution_count": 0,
      "outputs": []
    },
    {
      "metadata": {
        "id": "hG5VVGRIzIPP",
        "colab_type": "code",
        "outputId": "fc1f00ae-3ba6-415c-96d3-30731f959f5b",
        "colab": {
          "base_uri": "https://localhost:8080/",
          "height": 34
        }
      },
      "cell_type": "code",
      "source": [
        "tok_in[9][1]"
      ],
      "execution_count": 35,
      "outputs": [
        {
          "output_type": "execute_result",
          "data": {
            "text/plain": [
              "'is'"
            ]
          },
          "metadata": {
            "tags": []
          },
          "execution_count": 35
        }
      ]
    },
    {
      "metadata": {
        "id": "dcpggGtZjVJA",
        "colab_type": "code",
        "colab": {}
      },
      "cell_type": "code",
      "source": [
        "encoder_input_data = np.zeros(\n",
        "    (len(tok_in), max_encoder_seq_length),\n",
        "    dtype='float32')\n",
        "decoder_input_data = np.zeros(\n",
        "    (len(tok_target), max_decoder_seq_length),\n",
        "    dtype='float32')\n",
        "decoder_target_data = np.zeros(\n",
        "    (len(tok_target),  max_decoder_seq_length, latent_dim),\n",
        "    dtype='float32')"
      ],
      "execution_count": 0,
      "outputs": []
    },
    {
      "metadata": {
        "id": "PotdV5AIjXLJ",
        "colab_type": "code",
        "colab": {}
      },
      "cell_type": "code",
      "source": [
        "#Index encoding of encoder_inpu, decoder_input and decoder_target\n",
        "for i in range(len(tok_in)):\n",
        "  for j in range(len(tok_in[i])):\n",
        "#     print(j)\n",
        "#    encoder_input_data[i,j] = input_token_index[tok_in[i][j]]\n",
        "     encoder_input_data[i,j] = vocab_token_index[tok_in[i][j]]\n",
        "    \n",
        "for i in range(len(tok_target)):\n",
        "  for t, word in enumerate(tok_target[i]):\n",
        "    #decoder_input_data[i,t] = target_token_index[word]\n",
        "    decoder_input_data[i,t] = vocab_token_index[word]\n",
        "    if t > 0:\n",
        "      # decoder_target_data will be ahead by one timestep\n",
        "      # and will not include the start character.\n",
        "      #decoder_target_data[i, t - 1] = embedding_matrix[target_token_index[word]]\n",
        "      decoder_target_data[i, t - 1] = embedding_matrix[vocab_token_index[word]]"
      ],
      "execution_count": 0,
      "outputs": []
    },
    {
      "metadata": {
        "id": "s3MegprDkKI8",
        "colab_type": "code",
        "outputId": "949a826e-3414-481d-ab46-9cc1f8e3b5bf",
        "colab": {
          "base_uri": "https://localhost:8080/",
          "height": 34
        }
      },
      "cell_type": "code",
      "source": [
        "vocab_token_index['bol']"
      ],
      "execution_count": 38,
      "outputs": [
        {
          "output_type": "execute_result",
          "data": {
            "text/plain": [
              "47"
            ]
          },
          "metadata": {
            "tags": []
          },
          "execution_count": 38
        }
      ]
    },
    {
      "metadata": {
        "id": "G25rJ4LZkOny",
        "colab_type": "code",
        "colab": {}
      },
      "cell_type": "code",
      "source": [
        "encoder_input_data = np.fliplr(encoder_input_data)"
      ],
      "execution_count": 0,
      "outputs": []
    },
    {
      "metadata": {
        "id": "3qEAummPkUG6",
        "colab_type": "code",
        "outputId": "96956618-cf06-4549-cb70-96049d99c7b6",
        "colab": {
          "base_uri": "https://localhost:8080/",
          "height": 51
        }
      },
      "cell_type": "code",
      "source": [
        "encoder_input_data[2]"
      ],
      "execution_count": 40,
      "outputs": [
        {
          "output_type": "execute_result",
          "data": {
            "text/plain": [
              "array([  0.,   0.,   0.,   0.,   0.,   0.,   0.,   0.,   0.,   0.,   0.,\n",
              "         6., 116.,  17.,   3., 135.], dtype=float32)"
            ]
          },
          "metadata": {
            "tags": []
          },
          "execution_count": 40
        }
      ]
    },
    {
      "metadata": {
        "id": "snA4R3j_kXSx",
        "colab_type": "code",
        "colab": {}
      },
      "cell_type": "code",
      "source": [
        "from keras.layers import Embedding\n"
      ],
      "execution_count": 0,
      "outputs": []
    },
    {
      "metadata": {
        "id": "aHccx-28kfMY",
        "colab_type": "code",
        "colab": {}
      },
      "cell_type": "code",
      "source": [
        "# Reverse-lookup token index to decode sequences back to\n",
        "# something readable.\n",
        "reverse_input_word_index = dict(\n",
        "    (i, word) for word, i in input_token_index.items())\n",
        "reverse_target_word_index = dict(\n",
        "    (i, word) for word, i in target_token_index.items())\n",
        "reverse_word_index = dict(\n",
        "    (i, word) for word, i in vocab_token_index.items())\n"
      ],
      "execution_count": 0,
      "outputs": []
    },
    {
      "metadata": {
        "id": "pR7qCprpkqC9",
        "colab_type": "code",
        "colab": {}
      },
      "cell_type": "code",
      "source": [
        "from sklearn.metrics.pairwise import cosine_similarity\n",
        "from scipy.spatial.distance import cosine\n",
        "similar = cosine_similarity(decoder_target_data[9],embedding_matrix)"
      ],
      "execution_count": 0,
      "outputs": []
    },
    {
      "metadata": {
        "id": "uSS9DxuHn14t",
        "colab_type": "code",
        "outputId": "b29ec6ab-2599-4193-b655-8acdd269beb6",
        "colab": {
          "base_uri": "https://localhost:8080/",
          "height": 34
        }
      },
      "cell_type": "code",
      "source": [
        "reverse_word_index[decoder_input_data[9,1]]"
      ],
      "execution_count": 44,
      "outputs": [
        {
          "output_type": "execute_result",
          "data": {
            "text/plain": [
              "'i'"
            ]
          },
          "metadata": {
            "tags": []
          },
          "execution_count": 44
        }
      ]
    },
    {
      "metadata": {
        "id": "zmgiNxJ0nUC3",
        "colab_type": "code",
        "colab": {}
      },
      "cell_type": "code",
      "source": [
        "x = decoder_target_data[9,1].T"
      ],
      "execution_count": 0,
      "outputs": []
    },
    {
      "metadata": {
        "id": "EQqKeHR4oNct",
        "colab_type": "code",
        "colab": {}
      },
      "cell_type": "code",
      "source": [
        "y=np.reshape(x,(1,100))"
      ],
      "execution_count": 0,
      "outputs": []
    },
    {
      "metadata": {
        "id": "Cf-0XoRFqipa",
        "colab_type": "code",
        "colab": {}
      },
      "cell_type": "code",
      "source": [
        "similar = cosine_similarity(y,embedding_matrix)"
      ],
      "execution_count": 0,
      "outputs": []
    },
    {
      "metadata": {
        "id": "wokhX86owswc",
        "colab_type": "code",
        "outputId": "5995d503-ddd2-41f8-af55-53ec8546fc85",
        "colab": {
          "base_uri": "https://localhost:8080/",
          "height": 34
        }
      },
      "cell_type": "code",
      "source": [
        "print(np.argmax(similar))"
      ],
      "execution_count": 48,
      "outputs": [
        {
          "output_type": "stream",
          "text": [
            "152\n"
          ],
          "name": "stdout"
        }
      ]
    },
    {
      "metadata": {
        "id": "7WoT-ZMfk6PC",
        "colab_type": "code",
        "outputId": "d342b581-9048-439b-e130-5e078e48e4c2",
        "colab": {
          "base_uri": "https://localhost:8080/",
          "height": 34
        }
      },
      "cell_type": "code",
      "source": [
        "reverse_word_index[np.argmax(similar)]"
      ],
      "execution_count": 49,
      "outputs": [
        {
          "output_type": "execute_result",
          "data": {
            "text/plain": [
              "'know'"
            ]
          },
          "metadata": {
            "tags": []
          },
          "execution_count": 49
        }
      ]
    },
    {
      "metadata": {
        "id": "inU-Swnrmi0z",
        "colab_type": "code",
        "colab": {}
      },
      "cell_type": "code",
      "source": [
        "from sklearn.metrics.pairwise import cosine_similarity\n",
        "from scipy.spatial.distance import cosine\n",
        "def find_similar_word(v_seq, embed_matrix, index_to_word):\n",
        "  out_seq = []\n",
        "  similar = cosine_similarity(v_seq,embed_matrix)\n",
        "  for i in range(similar.shape[0]):\n",
        "    if (np.argmax(similar[i]) == 10000):\n",
        "      out_seq.append(index_to_word[0])\n",
        "    else:\n",
        "      out_seq.append(index_to_word[np.argmax(similar[i])])\n",
        "  return out_seq\n",
        "    "
      ],
      "execution_count": 0,
      "outputs": []
    },
    {
      "metadata": {
        "id": "OfxJJ6IXlTWU",
        "colab_type": "code",
        "colab": {}
      },
      "cell_type": "code",
      "source": [
        "#decoder_target_data[9,210]"
      ],
      "execution_count": 0,
      "outputs": []
    },
    {
      "metadata": {
        "id": "8MO--jmcsA2f",
        "colab_type": "code",
        "colab": {}
      },
      "cell_type": "code",
      "source": [
        "#cosine_similarity(decoder_target_data[9],embedding_matrix,reverse_target_word_index)"
      ],
      "execution_count": 0,
      "outputs": []
    },
    {
      "metadata": {
        "id": "v_gkANOkrLqS",
        "colab_type": "code",
        "outputId": "4be25413-fc7f-4893-a038-505d902d8569",
        "colab": {
          "base_uri": "https://localhost:8080/",
          "height": 595
        }
      },
      "cell_type": "code",
      "source": [
        "find_similar_word(decoder_target_data[111],embedding_matrix,reverse_word_index)"
      ],
      "execution_count": 53,
      "outputs": [
        {
          "output_type": "execute_result",
          "data": {
            "text/plain": [
              "['although',\n",
              " 'that',\n",
              " 'way',\n",
              " 'may',\n",
              " 'not',\n",
              " 'be',\n",
              " 'obvious',\n",
              " 'at',\n",
              " 'first',\n",
              " 'unless',\n",
              " 'you',\n",
              " 'are',\n",
              " 'dutch',\n",
              " '.',\n",
              " 'eol',\n",
              " ' ',\n",
              " ' ',\n",
              " ' ',\n",
              " ' ',\n",
              " ' ',\n",
              " ' ',\n",
              " ' ',\n",
              " ' ',\n",
              " ' ',\n",
              " ' ',\n",
              " ' ',\n",
              " ' ',\n",
              " ' ',\n",
              " ' ',\n",
              " ' ',\n",
              " ' ',\n",
              " ' ',\n",
              " ' ',\n",
              " ' ']"
            ]
          },
          "metadata": {
            "tags": []
          },
          "execution_count": 53
        }
      ]
    },
    {
      "metadata": {
        "id": "qP4iXYMcES5K",
        "colab_type": "code",
        "colab": {
          "base_uri": "https://localhost:8080/",
          "height": 34
        },
        "outputId": "a80d12e2-828f-496d-d6c5-3ff2b8c4c9f5"
      },
      "cell_type": "code",
      "source": [
        "x = [3,4,7,8,9,10]\n",
        "print(x[0:2])"
      ],
      "execution_count": 55,
      "outputs": [
        {
          "output_type": "stream",
          "text": [
            "[3, 4]\n"
          ],
          "name": "stdout"
        }
      ]
    },
    {
      "metadata": {
        "id": "F2-vqntXr75G",
        "colab_type": "code",
        "colab": {}
      },
      "cell_type": "code",
      "source": [
        "from keras.layers import Bidirectional, Concatenate"
      ],
      "execution_count": 0,
      "outputs": []
    },
    {
      "metadata": {
        "id": "6WvzM0Uqram8",
        "colab_type": "code",
        "colab": {}
      },
      "cell_type": "code",
      "source": [
        "# Define an input sequence and process it.\n",
        "encoder_inputs = Input(shape=(None,))\n",
        "encoder_embedding = Embedding(max_words, latent_dim, weights=[embedding_matrix], trainable=False, mask_zero=True)\n",
        "#encoder_embedding = Embedding(num_encoder_tokens, latent_dim, weights=[embedding_matrix], trainable=False, mask_zero=True)\n",
        "embedding_output = encoder_embedding(encoder_inputs)\n",
        "#encoder1 = LSTM(latent_dim, return_state=True, return_sequences=True)\n",
        "#encoder_outputs_1,state_h_1,state_c_1 = encoder1(embedding_output)\n",
        "encoder1 =LSTM(latent_dim, return_state=True,return_sequences=True) #orig\n",
        "encoder2 =LSTM(latent_dim, return_state=True,return_sequences=True) \n",
        "encoder3 =LSTM(latent_dim, return_state=True,return_sequences=True)\n",
        "encoder_outputs1, state_h1, state_c1 = encoder1(embedding_output)#orig\n",
        "encoder_outputs2, state_h2, state_c2 = encoder2(encoder_outputs1)\n",
        "encoder_outputs3, state_h3, state_c3 = encoder3(encoder_outputs2)\n",
        "#state_h = Concatenate()([fstate_h,bstate_h])\n",
        "#state_c = Concatenate()([fstate_c,bstate_c])\n",
        "# We discard `encoder_outputs` and only keep the states.\n",
        "encoder_states1 = [state_h1, state_c1]\n",
        "encoder_states2 = [state_h2, state_c2]\n",
        "encoder_states3 = [state_h3, state_c3]\n",
        "encoder_states = [state_h1, state_c1,state_h2, state_c2,state_h3, state_c3]"
      ],
      "execution_count": 0,
      "outputs": []
    },
    {
      "metadata": {
        "id": "qY96-DAktyDp",
        "colab_type": "code",
        "colab": {}
      },
      "cell_type": "code",
      "source": [
        "# Set up the decoder, using `encoder_states` as initial state.\n",
        "decoder_inputs = Input(shape=(None,))\n",
        "\n",
        "decoder_embedding = Embedding(max_words, latent_dim, weights=[embedding_matrix], trainable=False, mask_zero=True)\n",
        "dec_embed_out = decoder_embedding(decoder_inputs)\n",
        "# # We set up our decoder to return full output sequences,\n",
        "# # and to return internal states as well. We don't use the\n",
        "# # return states in the training model, but we will use them in inference.\n",
        "\n",
        "decoder_lstm1 = LSTM(latent_dim, return_sequences=True, return_state=True)\n",
        "decoder_lstm2 = LSTM(latent_dim, return_sequences=True, return_state=True)\n",
        "decoder_lstm3 = LSTM(latent_dim, return_sequences=True, return_state=True)\n",
        "\n",
        "\n",
        "decoder_outputs1, _, _ = decoder_lstm1(dec_embed_out, initial_state=encoder_states[0:2])\n",
        "decoder_outputs2, _, _ = decoder_lstm2(decoder_outputs1, initial_state=encoder_states[2:4])\n",
        "decoder_outputs3, _, _ = decoder_lstm3(decoder_outputs2, initial_state=encoder_states[4:6])\n",
        "# decoder_lstm2 = LSTM(latent_dim, return_sequences=True, return_state=True)\n",
        "\n",
        "# decoder_outputs2, _, _ = decoder_lstm2(decoder_outputs1)\n",
        "\n",
        "#decoder_dense = Dense(latent_dim, activation='sigmoid')\n",
        "#decoder_dense_outputs = decoder_dense(decoder_outputs)\n",
        "\n"
      ],
      "execution_count": 0,
      "outputs": []
    },
    {
      "metadata": {
        "id": "RDtJiUjbuQ_m",
        "colab_type": "code",
        "colab": {}
      },
      "cell_type": "code",
      "source": [
        "# Define the model that will turn\n",
        "# `encoder_input_data` & `decoder_input_data` into `decoder_target_data`\n",
        "#model = Model([encoder_inputs, decoder_inputs], decoder_dense_outputs)\n",
        "model = Model([encoder_inputs, decoder_inputs], decoder_outputs3)"
      ],
      "execution_count": 0,
      "outputs": []
    },
    {
      "metadata": {
        "id": "2oVO9SSlumSN",
        "colab_type": "code",
        "outputId": "6ab3f2f0-482c-403a-82c5-aa0683050269",
        "colab": {
          "base_uri": "https://localhost:8080/",
          "height": 578
        }
      },
      "cell_type": "code",
      "source": [
        "model.summary()"
      ],
      "execution_count": 60,
      "outputs": [
        {
          "output_type": "stream",
          "text": [
            "__________________________________________________________________________________________________\n",
            "Layer (type)                    Output Shape         Param #     Connected to                     \n",
            "==================================================================================================\n",
            "input_1 (InputLayer)            (None, None)         0                                            \n",
            "__________________________________________________________________________________________________\n",
            "input_2 (InputLayer)            (None, None)         0                                            \n",
            "__________________________________________________________________________________________________\n",
            "embedding_1 (Embedding)         (None, None, 100)    1000000     input_1[0][0]                    \n",
            "__________________________________________________________________________________________________\n",
            "embedding_2 (Embedding)         (None, None, 100)    1000000     input_2[0][0]                    \n",
            "__________________________________________________________________________________________________\n",
            "lstm_1 (LSTM)                   [(None, None, 100),  80400       embedding_1[0][0]                \n",
            "__________________________________________________________________________________________________\n",
            "lstm_4 (LSTM)                   [(None, None, 100),  80400       embedding_2[0][0]                \n",
            "                                                                 lstm_1[0][1]                     \n",
            "                                                                 lstm_1[0][2]                     \n",
            "__________________________________________________________________________________________________\n",
            "lstm_2 (LSTM)                   [(None, None, 100),  80400       lstm_1[0][0]                     \n",
            "__________________________________________________________________________________________________\n",
            "lstm_5 (LSTM)                   [(None, None, 100),  80400       lstm_4[0][0]                     \n",
            "                                                                 lstm_2[0][1]                     \n",
            "                                                                 lstm_2[0][2]                     \n",
            "__________________________________________________________________________________________________\n",
            "lstm_3 (LSTM)                   [(None, None, 100),  80400       lstm_2[0][0]                     \n",
            "__________________________________________________________________________________________________\n",
            "lstm_6 (LSTM)                   [(None, None, 100),  80400       lstm_5[0][0]                     \n",
            "                                                                 lstm_3[0][1]                     \n",
            "                                                                 lstm_3[0][2]                     \n",
            "==================================================================================================\n",
            "Total params: 2,482,400\n",
            "Trainable params: 482,400\n",
            "Non-trainable params: 2,000,000\n",
            "__________________________________________________________________________________________________\n"
          ],
          "name": "stdout"
        }
      ]
    },
    {
      "metadata": {
        "id": "Jui6e2GhuqAU",
        "colab_type": "code",
        "outputId": "620312f5-4165-4bd3-95cc-0a50ebeb9f1b",
        "colab": {
          "base_uri": "https://localhost:8080/",
          "height": 6834
        }
      },
      "cell_type": "code",
      "source": [
        "#from keras import losses\n",
        "# Run training\n",
        "# Note that `decoder_target_data` needs to be one-hot encoded,\n",
        "# rather than sequences of integers like `decoder_input_data`!\n",
        "model.compile(optimizer='adam', loss='cosine_proximity', metrics=['acc'])\n",
        "history = model.fit([encoder_input_data, decoder_input_data], decoder_target_data,\n",
        "          batch_size=batch_size,\n",
        "          epochs=200,\n",
        "          validation_split=0.2)"
      ],
      "execution_count": 61,
      "outputs": [
        {
          "output_type": "stream",
          "text": [
            "Train on 116 samples, validate on 30 samples\n",
            "Epoch 1/200\n",
            "116/116 [==============================] - 5s 45ms/step - loss: -0.1714 - acc: 0.3138 - val_loss: -0.4172 - val_acc: 0.4926\n",
            "Epoch 2/200\n",
            "116/116 [==============================] - 1s 8ms/step - loss: -0.4717 - acc: 0.5263 - val_loss: -0.5054 - val_acc: 0.4596\n",
            "Epoch 3/200\n",
            "116/116 [==============================] - 1s 7ms/step - loss: -0.5352 - acc: 0.5053 - val_loss: -0.5273 - val_acc: 0.4963\n",
            "Epoch 4/200\n",
            "116/116 [==============================] - 1s 8ms/step - loss: -0.5483 - acc: 0.5661 - val_loss: -0.5355 - val_acc: 0.5257\n",
            "Epoch 5/200\n",
            "116/116 [==============================] - 1s 7ms/step - loss: -0.5539 - acc: 0.5779 - val_loss: -0.5393 - val_acc: 0.5257\n",
            "Epoch 6/200\n",
            "116/116 [==============================] - 1s 7ms/step - loss: -0.5600 - acc: 0.5808 - val_loss: -0.5406 - val_acc: 0.5257\n",
            "Epoch 7/200\n",
            "116/116 [==============================] - 1s 7ms/step - loss: -0.5625 - acc: 0.5811 - val_loss: -0.5419 - val_acc: 0.5257\n",
            "Epoch 8/200\n",
            "116/116 [==============================] - 1s 7ms/step - loss: -0.5638 - acc: 0.5815 - val_loss: -0.5428 - val_acc: 0.5257\n",
            "Epoch 9/200\n",
            "116/116 [==============================] - 1s 7ms/step - loss: -0.5634 - acc: 0.5811 - val_loss: -0.5437 - val_acc: 0.5257\n",
            "Epoch 10/200\n",
            "116/116 [==============================] - 1s 7ms/step - loss: -0.5647 - acc: 0.5794 - val_loss: -0.5439 - val_acc: 0.5257\n",
            "Epoch 11/200\n",
            "116/116 [==============================] - 1s 7ms/step - loss: -0.5662 - acc: 0.5796 - val_loss: -0.5443 - val_acc: 0.5257\n",
            "Epoch 12/200\n",
            "116/116 [==============================] - 1s 7ms/step - loss: -0.5649 - acc: 0.5752 - val_loss: -0.5447 - val_acc: 0.5257\n",
            "Epoch 13/200\n",
            "116/116 [==============================] - 1s 7ms/step - loss: -0.5656 - acc: 0.5755 - val_loss: -0.5450 - val_acc: 0.5257\n",
            "Epoch 14/200\n",
            "116/116 [==============================] - 1s 7ms/step - loss: -0.5701 - acc: 0.5795 - val_loss: -0.5446 - val_acc: 0.5257\n",
            "Epoch 15/200\n",
            "116/116 [==============================] - 1s 7ms/step - loss: -0.5713 - acc: 0.5782 - val_loss: -0.5443 - val_acc: 0.5257\n",
            "Epoch 16/200\n",
            "116/116 [==============================] - 1s 7ms/step - loss: -0.5730 - acc: 0.5773 - val_loss: -0.5436 - val_acc: 0.5257\n",
            "Epoch 17/200\n",
            "116/116 [==============================] - 1s 7ms/step - loss: -0.5744 - acc: 0.5768 - val_loss: -0.5404 - val_acc: 0.5037\n",
            "Epoch 18/200\n",
            "116/116 [==============================] - 1s 7ms/step - loss: -0.5755 - acc: 0.5588 - val_loss: -0.5400 - val_acc: 0.5257\n",
            "Epoch 19/200\n",
            "116/116 [==============================] - 1s 7ms/step - loss: -0.5770 - acc: 0.5723 - val_loss: -0.5242 - val_acc: 0.4485\n",
            "Epoch 20/200\n",
            "116/116 [==============================] - 1s 7ms/step - loss: -0.5812 - acc: 0.5547 - val_loss: -0.5347 - val_acc: 0.5221\n",
            "Epoch 21/200\n",
            "116/116 [==============================] - 1s 7ms/step - loss: -0.5803 - acc: 0.5704 - val_loss: -0.5104 - val_acc: 0.4191\n",
            "Epoch 22/200\n",
            "116/116 [==============================] - 1s 7ms/step - loss: -0.5848 - acc: 0.5389 - val_loss: -0.5308 - val_acc: 0.5037\n",
            "Epoch 23/200\n",
            "116/116 [==============================] - 1s 7ms/step - loss: -0.5813 - acc: 0.5734 - val_loss: -0.5046 - val_acc: 0.4154\n",
            "Epoch 24/200\n",
            "116/116 [==============================] - 1s 7ms/step - loss: -0.5819 - acc: 0.5063 - val_loss: -0.5285 - val_acc: 0.4743\n",
            "Epoch 25/200\n",
            "116/116 [==============================] - 1s 8ms/step - loss: -0.5842 - acc: 0.5722 - val_loss: -0.5380 - val_acc: 0.4926\n",
            "Epoch 26/200\n",
            "116/116 [==============================] - 1s 7ms/step - loss: -0.5915 - acc: 0.5507 - val_loss: -0.5082 - val_acc: 0.4191\n",
            "Epoch 27/200\n",
            "116/116 [==============================] - 1s 7ms/step - loss: -0.5936 - acc: 0.5281 - val_loss: -0.5276 - val_acc: 0.4890\n",
            "Epoch 28/200\n",
            "116/116 [==============================] - 1s 7ms/step - loss: -0.5951 - acc: 0.5551 - val_loss: -0.4988 - val_acc: 0.4228\n",
            "Epoch 29/200\n",
            "116/116 [==============================] - 1s 7ms/step - loss: -0.6035 - acc: 0.5253 - val_loss: -0.5002 - val_acc: 0.4485\n",
            "Epoch 30/200\n",
            "116/116 [==============================] - 1s 7ms/step - loss: -0.6093 - acc: 0.5532 - val_loss: -0.4753 - val_acc: 0.4228\n",
            "Epoch 31/200\n",
            "116/116 [==============================] - 1s 7ms/step - loss: -0.6126 - acc: 0.5326 - val_loss: -0.4777 - val_acc: 0.4596\n",
            "Epoch 32/200\n",
            "116/116 [==============================] - 1s 7ms/step - loss: -0.6133 - acc: 0.5488 - val_loss: -0.4531 - val_acc: 0.4118\n",
            "Epoch 33/200\n",
            "116/116 [==============================] - 1s 7ms/step - loss: -0.6127 - acc: 0.5550 - val_loss: -0.4880 - val_acc: 0.4301\n",
            "Epoch 34/200\n",
            "116/116 [==============================] - 1s 7ms/step - loss: -0.6201 - acc: 0.5515 - val_loss: -0.4705 - val_acc: 0.4449\n",
            "Epoch 35/200\n",
            "116/116 [==============================] - 1s 7ms/step - loss: -0.6257 - acc: 0.5614 - val_loss: -0.4626 - val_acc: 0.4412\n",
            "Epoch 36/200\n",
            "116/116 [==============================] - 1s 7ms/step - loss: -0.6360 - acc: 0.5566 - val_loss: -0.4251 - val_acc: 0.4044\n",
            "Epoch 37/200\n",
            "116/116 [==============================] - 1s 8ms/step - loss: -0.6343 - acc: 0.5792 - val_loss: -0.4534 - val_acc: 0.4632\n",
            "Epoch 38/200\n",
            "116/116 [==============================] - 1s 7ms/step - loss: -0.6424 - acc: 0.5817 - val_loss: -0.4559 - val_acc: 0.4485\n",
            "Epoch 39/200\n",
            "116/116 [==============================] - 1s 8ms/step - loss: -0.6497 - acc: 0.5682 - val_loss: -0.4545 - val_acc: 0.4485\n",
            "Epoch 40/200\n",
            "116/116 [==============================] - 1s 7ms/step - loss: -0.6588 - acc: 0.6082 - val_loss: -0.4515 - val_acc: 0.4338\n",
            "Epoch 41/200\n",
            "116/116 [==============================] - 1s 7ms/step - loss: -0.6687 - acc: 0.5834 - val_loss: -0.4613 - val_acc: 0.4485\n",
            "Epoch 42/200\n",
            "116/116 [==============================] - 1s 7ms/step - loss: -0.6788 - acc: 0.6114 - val_loss: -0.4621 - val_acc: 0.4522\n",
            "Epoch 43/200\n",
            "116/116 [==============================] - 1s 7ms/step - loss: -0.6873 - acc: 0.6321 - val_loss: -0.4419 - val_acc: 0.4449\n",
            "Epoch 44/200\n",
            "116/116 [==============================] - 1s 7ms/step - loss: -0.6906 - acc: 0.6386 - val_loss: -0.4569 - val_acc: 0.4632\n",
            "Epoch 45/200\n",
            "116/116 [==============================] - 1s 7ms/step - loss: -0.6916 - acc: 0.6507 - val_loss: -0.4863 - val_acc: 0.4522\n",
            "Epoch 46/200\n",
            "116/116 [==============================] - 1s 7ms/step - loss: -0.6886 - acc: 0.6375 - val_loss: -0.4776 - val_acc: 0.4743\n",
            "Epoch 47/200\n",
            "116/116 [==============================] - 1s 7ms/step - loss: -0.6987 - acc: 0.6592 - val_loss: -0.4763 - val_acc: 0.4669\n",
            "Epoch 48/200\n",
            "116/116 [==============================] - 1s 8ms/step - loss: -0.7035 - acc: 0.6622 - val_loss: -0.4635 - val_acc: 0.4743\n",
            "Epoch 49/200\n",
            "116/116 [==============================] - 1s 7ms/step - loss: -0.7078 - acc: 0.6712 - val_loss: -0.4772 - val_acc: 0.4779\n",
            "Epoch 50/200\n",
            "116/116 [==============================] - 1s 7ms/step - loss: -0.7097 - acc: 0.6722 - val_loss: -0.4620 - val_acc: 0.4669\n",
            "Epoch 51/200\n",
            "116/116 [==============================] - 1s 7ms/step - loss: -0.7112 - acc: 0.6712 - val_loss: -0.4707 - val_acc: 0.4743\n",
            "Epoch 52/200\n",
            "116/116 [==============================] - 1s 7ms/step - loss: -0.7146 - acc: 0.6762 - val_loss: -0.4492 - val_acc: 0.4743\n",
            "Epoch 53/200\n",
            "116/116 [==============================] - 1s 8ms/step - loss: -0.7166 - acc: 0.6821 - val_loss: -0.4755 - val_acc: 0.4890\n",
            "Epoch 54/200\n",
            "116/116 [==============================] - 1s 7ms/step - loss: -0.7182 - acc: 0.6795 - val_loss: -0.4569 - val_acc: 0.4779\n",
            "Epoch 55/200\n",
            "116/116 [==============================] - 1s 7ms/step - loss: -0.7205 - acc: 0.6811 - val_loss: -0.4662 - val_acc: 0.4853\n",
            "Epoch 56/200\n",
            "116/116 [==============================] - 1s 7ms/step - loss: -0.7203 - acc: 0.6741 - val_loss: -0.4446 - val_acc: 0.4669\n",
            "Epoch 57/200\n",
            "116/116 [==============================] - 1s 7ms/step - loss: -0.7223 - acc: 0.6762 - val_loss: -0.4677 - val_acc: 0.4816\n",
            "Epoch 58/200\n",
            "116/116 [==============================] - 1s 7ms/step - loss: -0.7234 - acc: 0.6780 - val_loss: -0.4500 - val_acc: 0.4779\n",
            "Epoch 59/200\n",
            "116/116 [==============================] - 1s 7ms/step - loss: -0.7235 - acc: 0.6772 - val_loss: -0.4563 - val_acc: 0.4816\n",
            "Epoch 60/200\n",
            "116/116 [==============================] - 1s 7ms/step - loss: -0.7249 - acc: 0.6751 - val_loss: -0.4480 - val_acc: 0.4743\n",
            "Epoch 61/200\n",
            "116/116 [==============================] - 1s 7ms/step - loss: -0.7262 - acc: 0.6724 - val_loss: -0.4581 - val_acc: 0.4779\n",
            "Epoch 62/200\n",
            "116/116 [==============================] - 1s 7ms/step - loss: -0.7273 - acc: 0.6765 - val_loss: -0.4451 - val_acc: 0.4706\n",
            "Epoch 63/200\n",
            "116/116 [==============================] - 1s 7ms/step - loss: -0.7285 - acc: 0.6744 - val_loss: -0.4542 - val_acc: 0.4816\n",
            "Epoch 64/200\n",
            "116/116 [==============================] - 1s 7ms/step - loss: -0.7281 - acc: 0.6771 - val_loss: -0.4451 - val_acc: 0.4669\n",
            "Epoch 65/200\n",
            "116/116 [==============================] - 1s 7ms/step - loss: -0.7301 - acc: 0.6704 - val_loss: -0.4428 - val_acc: 0.4779\n",
            "Epoch 66/200\n",
            "116/116 [==============================] - 1s 8ms/step - loss: -0.7308 - acc: 0.6717 - val_loss: -0.4435 - val_acc: 0.4669\n",
            "Epoch 67/200\n",
            "116/116 [==============================] - 1s 8ms/step - loss: -0.7327 - acc: 0.6738 - val_loss: -0.4427 - val_acc: 0.4743\n",
            "Epoch 68/200\n",
            "116/116 [==============================] - 1s 8ms/step - loss: -0.7335 - acc: 0.6663 - val_loss: -0.4433 - val_acc: 0.4743\n",
            "Epoch 69/200\n",
            "116/116 [==============================] - 1s 7ms/step - loss: -0.7345 - acc: 0.6729 - val_loss: -0.4367 - val_acc: 0.4596\n",
            "Epoch 70/200\n",
            "116/116 [==============================] - 1s 7ms/step - loss: -0.7360 - acc: 0.6727 - val_loss: -0.4356 - val_acc: 0.4669\n",
            "Epoch 71/200\n",
            "116/116 [==============================] - 1s 7ms/step - loss: -0.7371 - acc: 0.6769 - val_loss: -0.4335 - val_acc: 0.4596\n",
            "Epoch 72/200\n",
            "116/116 [==============================] - 1s 7ms/step - loss: -0.7382 - acc: 0.6693 - val_loss: -0.4324 - val_acc: 0.4596\n",
            "Epoch 73/200\n",
            "116/116 [==============================] - 1s 7ms/step - loss: -0.7384 - acc: 0.6707 - val_loss: -0.4312 - val_acc: 0.4559\n",
            "Epoch 74/200\n",
            "116/116 [==============================] - 1s 7ms/step - loss: -0.7395 - acc: 0.6710 - val_loss: -0.4277 - val_acc: 0.4559\n",
            "Epoch 75/200\n",
            "116/116 [==============================] - 1s 7ms/step - loss: -0.7400 - acc: 0.6711 - val_loss: -0.4294 - val_acc: 0.4596\n",
            "Epoch 76/200\n",
            "116/116 [==============================] - 1s 7ms/step - loss: -0.7417 - acc: 0.6779 - val_loss: -0.4237 - val_acc: 0.4522\n",
            "Epoch 77/200\n",
            "116/116 [==============================] - 1s 7ms/step - loss: -0.7420 - acc: 0.6701 - val_loss: -0.4278 - val_acc: 0.4559\n",
            "Epoch 78/200\n",
            "116/116 [==============================] - 1s 7ms/step - loss: -0.7426 - acc: 0.6682 - val_loss: -0.4253 - val_acc: 0.4559\n",
            "Epoch 79/200\n",
            "116/116 [==============================] - 1s 7ms/step - loss: -0.7432 - acc: 0.6700 - val_loss: -0.4250 - val_acc: 0.4449\n",
            "Epoch 80/200\n",
            "116/116 [==============================] - 1s 7ms/step - loss: -0.7444 - acc: 0.6731 - val_loss: -0.4270 - val_acc: 0.4412\n",
            "Epoch 81/200\n",
            "116/116 [==============================] - 1s 8ms/step - loss: -0.7464 - acc: 0.6755 - val_loss: -0.4214 - val_acc: 0.4522\n",
            "Epoch 82/200\n",
            "116/116 [==============================] - 1s 7ms/step - loss: -0.7457 - acc: 0.6670 - val_loss: -0.4253 - val_acc: 0.4522\n",
            "Epoch 83/200\n",
            "116/116 [==============================] - 1s 8ms/step - loss: -0.7454 - acc: 0.6724 - val_loss: -0.4271 - val_acc: 0.4449\n",
            "Epoch 84/200\n",
            "116/116 [==============================] - 1s 7ms/step - loss: -0.7458 - acc: 0.6691 - val_loss: -0.4166 - val_acc: 0.4449\n",
            "Epoch 85/200\n",
            "116/116 [==============================] - 1s 7ms/step - loss: -0.7470 - acc: 0.6737 - val_loss: -0.4126 - val_acc: 0.4265\n",
            "Epoch 86/200\n",
            "116/116 [==============================] - 1s 7ms/step - loss: -0.7486 - acc: 0.6631 - val_loss: -0.4253 - val_acc: 0.4412\n",
            "Epoch 87/200\n",
            "116/116 [==============================] - 1s 7ms/step - loss: -0.7486 - acc: 0.6685 - val_loss: -0.4238 - val_acc: 0.4485\n",
            "Epoch 88/200\n",
            "116/116 [==============================] - 1s 7ms/step - loss: -0.7507 - acc: 0.6750 - val_loss: -0.4142 - val_acc: 0.4449\n",
            "Epoch 89/200\n",
            "116/116 [==============================] - 1s 7ms/step - loss: -0.7497 - acc: 0.6683 - val_loss: -0.4294 - val_acc: 0.4485\n",
            "Epoch 90/200\n",
            "116/116 [==============================] - 1s 7ms/step - loss: -0.7499 - acc: 0.6633 - val_loss: -0.4211 - val_acc: 0.4485\n",
            "Epoch 91/200\n",
            "116/116 [==============================] - 1s 7ms/step - loss: -0.7523 - acc: 0.6726 - val_loss: -0.3990 - val_acc: 0.4118\n",
            "Epoch 92/200\n",
            "116/116 [==============================] - 1s 7ms/step - loss: -0.7531 - acc: 0.6660 - val_loss: -0.4286 - val_acc: 0.4485\n",
            "Epoch 93/200\n",
            "116/116 [==============================] - 1s 7ms/step - loss: -0.7544 - acc: 0.6711 - val_loss: -0.4146 - val_acc: 0.4301\n",
            "Epoch 94/200\n",
            "116/116 [==============================] - 1s 7ms/step - loss: -0.7550 - acc: 0.6665 - val_loss: -0.4135 - val_acc: 0.4228\n",
            "Epoch 95/200\n",
            "116/116 [==============================] - 1s 7ms/step - loss: -0.7549 - acc: 0.6626 - val_loss: -0.4154 - val_acc: 0.4375\n",
            "Epoch 96/200\n",
            "116/116 [==============================] - 1s 7ms/step - loss: -0.7570 - acc: 0.6768 - val_loss: -0.4053 - val_acc: 0.4154\n",
            "Epoch 97/200\n",
            "116/116 [==============================] - 1s 7ms/step - loss: -0.7574 - acc: 0.6689 - val_loss: -0.4105 - val_acc: 0.4228\n",
            "Epoch 98/200\n",
            "116/116 [==============================] - 1s 7ms/step - loss: -0.7577 - acc: 0.6688 - val_loss: -0.4150 - val_acc: 0.4338\n",
            "Epoch 99/200\n",
            "116/116 [==============================] - 1s 7ms/step - loss: -0.7589 - acc: 0.6691 - val_loss: -0.4149 - val_acc: 0.4265\n",
            "Epoch 100/200\n",
            "116/116 [==============================] - 1s 7ms/step - loss: -0.7585 - acc: 0.6720 - val_loss: -0.4102 - val_acc: 0.4265\n",
            "Epoch 101/200\n",
            "116/116 [==============================] - 1s 7ms/step - loss: -0.7597 - acc: 0.6683 - val_loss: -0.3960 - val_acc: 0.4081\n",
            "Epoch 102/200\n",
            "116/116 [==============================] - 1s 7ms/step - loss: -0.7597 - acc: 0.6664 - val_loss: -0.4225 - val_acc: 0.4338\n",
            "Epoch 103/200\n",
            "116/116 [==============================] - 1s 7ms/step - loss: -0.7614 - acc: 0.6774 - val_loss: -0.3955 - val_acc: 0.4007\n",
            "Epoch 104/200\n",
            "116/116 [==============================] - 1s 7ms/step - loss: -0.7605 - acc: 0.6716 - val_loss: -0.4113 - val_acc: 0.4154\n",
            "Epoch 105/200\n",
            "116/116 [==============================] - 1s 7ms/step - loss: -0.7616 - acc: 0.6617 - val_loss: -0.4245 - val_acc: 0.4338\n",
            "Epoch 106/200\n",
            "116/116 [==============================] - 1s 7ms/step - loss: -0.7629 - acc: 0.6690 - val_loss: -0.3959 - val_acc: 0.4118\n",
            "Epoch 107/200\n",
            "116/116 [==============================] - 1s 7ms/step - loss: -0.7633 - acc: 0.6603 - val_loss: -0.4295 - val_acc: 0.4301\n",
            "Epoch 108/200\n",
            "116/116 [==============================] - 1s 7ms/step - loss: -0.7653 - acc: 0.6692 - val_loss: -0.4142 - val_acc: 0.4265\n",
            "Epoch 109/200\n",
            "116/116 [==============================] - 1s 7ms/step - loss: -0.7652 - acc: 0.6706 - val_loss: -0.4079 - val_acc: 0.4154\n",
            "Epoch 110/200\n",
            "116/116 [==============================] - 1s 7ms/step - loss: -0.7670 - acc: 0.6673 - val_loss: -0.4233 - val_acc: 0.4228\n",
            "Epoch 111/200\n",
            "116/116 [==============================] - 1s 7ms/step - loss: -0.7679 - acc: 0.6746 - val_loss: -0.3995 - val_acc: 0.4081\n",
            "Epoch 112/200\n",
            "116/116 [==============================] - 1s 7ms/step - loss: -0.7693 - acc: 0.6698 - val_loss: -0.4071 - val_acc: 0.4007\n",
            "Epoch 113/200\n",
            "116/116 [==============================] - 1s 8ms/step - loss: -0.7702 - acc: 0.6598 - val_loss: -0.3901 - val_acc: 0.4191\n",
            "Epoch 114/200\n",
            "116/116 [==============================] - 1s 7ms/step - loss: -0.7700 - acc: 0.6679 - val_loss: -0.4057 - val_acc: 0.4081\n",
            "Epoch 115/200\n",
            "116/116 [==============================] - 1s 7ms/step - loss: -0.7699 - acc: 0.6688 - val_loss: -0.4215 - val_acc: 0.4081\n",
            "Epoch 116/200\n",
            "116/116 [==============================] - 1s 7ms/step - loss: -0.7702 - acc: 0.6651 - val_loss: -0.3973 - val_acc: 0.4007\n",
            "Epoch 117/200\n",
            "116/116 [==============================] - 1s 7ms/step - loss: -0.7703 - acc: 0.6705 - val_loss: -0.4117 - val_acc: 0.4118\n",
            "Epoch 118/200\n",
            "116/116 [==============================] - 1s 8ms/step - loss: -0.7722 - acc: 0.6614 - val_loss: -0.3921 - val_acc: 0.4044\n",
            "Epoch 119/200\n",
            "116/116 [==============================] - 1s 7ms/step - loss: -0.7733 - acc: 0.6676 - val_loss: -0.4162 - val_acc: 0.4154\n",
            "Epoch 120/200\n",
            "116/116 [==============================] - 1s 7ms/step - loss: -0.7734 - acc: 0.6788 - val_loss: -0.4038 - val_acc: 0.4081\n",
            "Epoch 121/200\n",
            "116/116 [==============================] - 1s 7ms/step - loss: -0.7751 - acc: 0.6675 - val_loss: -0.3858 - val_acc: 0.3824\n",
            "Epoch 122/200\n",
            "116/116 [==============================] - 1s 7ms/step - loss: -0.7768 - acc: 0.6594 - val_loss: -0.4028 - val_acc: 0.4118\n",
            "Epoch 123/200\n",
            "116/116 [==============================] - 1s 7ms/step - loss: -0.7784 - acc: 0.6719 - val_loss: -0.3875 - val_acc: 0.3971\n",
            "Epoch 124/200\n",
            "116/116 [==============================] - 1s 7ms/step - loss: -0.7797 - acc: 0.6680 - val_loss: -0.3965 - val_acc: 0.3897\n",
            "Epoch 125/200\n",
            "116/116 [==============================] - 1s 7ms/step - loss: -0.7811 - acc: 0.6615 - val_loss: -0.3993 - val_acc: 0.4081\n",
            "Epoch 126/200\n",
            "116/116 [==============================] - 1s 7ms/step - loss: -0.7817 - acc: 0.6734 - val_loss: -0.3963 - val_acc: 0.3860\n",
            "Epoch 127/200\n",
            "116/116 [==============================] - 1s 7ms/step - loss: -0.7825 - acc: 0.6578 - val_loss: -0.3953 - val_acc: 0.3860\n",
            "Epoch 128/200\n",
            "116/116 [==============================] - 1s 7ms/step - loss: -0.7829 - acc: 0.6643 - val_loss: -0.3898 - val_acc: 0.3860\n",
            "Epoch 129/200\n",
            "116/116 [==============================] - 1s 7ms/step - loss: -0.7837 - acc: 0.6641 - val_loss: -0.3792 - val_acc: 0.3640\n",
            "Epoch 130/200\n",
            "116/116 [==============================] - 1s 7ms/step - loss: -0.7829 - acc: 0.6629 - val_loss: -0.3845 - val_acc: 0.3787\n",
            "Epoch 131/200\n",
            "116/116 [==============================] - 1s 7ms/step - loss: -0.7842 - acc: 0.6562 - val_loss: -0.3938 - val_acc: 0.3971\n",
            "Epoch 132/200\n",
            "116/116 [==============================] - 1s 7ms/step - loss: -0.7843 - acc: 0.6715 - val_loss: -0.4051 - val_acc: 0.3713\n",
            "Epoch 133/200\n",
            "116/116 [==============================] - 1s 7ms/step - loss: -0.7849 - acc: 0.6601 - val_loss: -0.4008 - val_acc: 0.4081\n",
            "Epoch 134/200\n",
            "116/116 [==============================] - 1s 8ms/step - loss: -0.7846 - acc: 0.6637 - val_loss: -0.4153 - val_acc: 0.3750\n",
            "Epoch 135/200\n",
            "116/116 [==============================] - 1s 7ms/step - loss: -0.7846 - acc: 0.6636 - val_loss: -0.3997 - val_acc: 0.3971\n",
            "Epoch 136/200\n",
            "116/116 [==============================] - 1s 7ms/step - loss: -0.7843 - acc: 0.6678 - val_loss: -0.3889 - val_acc: 0.3750\n",
            "Epoch 137/200\n",
            "116/116 [==============================] - 1s 7ms/step - loss: -0.7848 - acc: 0.6524 - val_loss: -0.4033 - val_acc: 0.4007\n",
            "Epoch 138/200\n",
            "116/116 [==============================] - 1s 7ms/step - loss: -0.7810 - acc: 0.6660 - val_loss: -0.3943 - val_acc: 0.3934\n",
            "Epoch 139/200\n",
            "116/116 [==============================] - 1s 7ms/step - loss: -0.7788 - acc: 0.6516 - val_loss: -0.4372 - val_acc: 0.4118\n",
            "Epoch 140/200\n",
            "116/116 [==============================] - 1s 7ms/step - loss: -0.7789 - acc: 0.6474 - val_loss: -0.3913 - val_acc: 0.4118\n",
            "Epoch 141/200\n",
            "116/116 [==============================] - 1s 8ms/step - loss: -0.7827 - acc: 0.6762 - val_loss: -0.4038 - val_acc: 0.3787\n",
            "Epoch 142/200\n",
            "116/116 [==============================] - 1s 7ms/step - loss: -0.7846 - acc: 0.6676 - val_loss: -0.3926 - val_acc: 0.3860\n",
            "Epoch 143/200\n",
            "116/116 [==============================] - 1s 8ms/step - loss: -0.7862 - acc: 0.6616 - val_loss: -0.4038 - val_acc: 0.3860\n",
            "Epoch 144/200\n",
            "116/116 [==============================] - 1s 8ms/step - loss: -0.7880 - acc: 0.6794 - val_loss: -0.4078 - val_acc: 0.3934\n",
            "Epoch 145/200\n",
            "116/116 [==============================] - 1s 7ms/step - loss: -0.7894 - acc: 0.6671 - val_loss: -0.4024 - val_acc: 0.3860\n",
            "Epoch 146/200\n",
            "116/116 [==============================] - 1s 8ms/step - loss: -0.7901 - acc: 0.6722 - val_loss: -0.4039 - val_acc: 0.3971\n",
            "Epoch 147/200\n",
            "116/116 [==============================] - 1s 7ms/step - loss: -0.7924 - acc: 0.6675 - val_loss: -0.3791 - val_acc: 0.3750\n",
            "Epoch 148/200\n",
            "116/116 [==============================] - 1s 7ms/step - loss: -0.7928 - acc: 0.6646 - val_loss: -0.3956 - val_acc: 0.3750\n",
            "Epoch 149/200\n",
            "116/116 [==============================] - 1s 7ms/step - loss: -0.7935 - acc: 0.6574 - val_loss: -0.3850 - val_acc: 0.3934\n",
            "Epoch 150/200\n",
            "116/116 [==============================] - 1s 7ms/step - loss: -0.7945 - acc: 0.6779 - val_loss: -0.3957 - val_acc: 0.3824\n",
            "Epoch 151/200\n",
            "116/116 [==============================] - 1s 7ms/step - loss: -0.7957 - acc: 0.6700 - val_loss: -0.3918 - val_acc: 0.3934\n",
            "Epoch 152/200\n",
            "116/116 [==============================] - 1s 7ms/step - loss: -0.7963 - acc: 0.6766 - val_loss: -0.3802 - val_acc: 0.3676\n",
            "Epoch 153/200\n",
            "116/116 [==============================] - 1s 8ms/step - loss: -0.7972 - acc: 0.6706 - val_loss: -0.4027 - val_acc: 0.4007\n",
            "Epoch 154/200\n",
            "116/116 [==============================] - 1s 7ms/step - loss: -0.7976 - acc: 0.6666 - val_loss: -0.3946 - val_acc: 0.3971\n",
            "Epoch 155/200\n",
            "116/116 [==============================] - 1s 8ms/step - loss: -0.7978 - acc: 0.6810 - val_loss: -0.3921 - val_acc: 0.3603\n",
            "Epoch 156/200\n",
            "116/116 [==============================] - 1s 8ms/step - loss: -0.7993 - acc: 0.6687 - val_loss: -0.3814 - val_acc: 0.3824\n",
            "Epoch 157/200\n",
            "116/116 [==============================] - 1s 8ms/step - loss: -0.8001 - acc: 0.6699 - val_loss: -0.3808 - val_acc: 0.3529\n",
            "Epoch 158/200\n",
            "116/116 [==============================] - 1s 8ms/step - loss: -0.7999 - acc: 0.6773 - val_loss: -0.3912 - val_acc: 0.3713\n",
            "Epoch 159/200\n",
            "116/116 [==============================] - 1s 8ms/step - loss: -0.8000 - acc: 0.6676 - val_loss: -0.3845 - val_acc: 0.3713\n",
            "Epoch 160/200\n",
            "116/116 [==============================] - 1s 7ms/step - loss: -0.8002 - acc: 0.6757 - val_loss: -0.3699 - val_acc: 0.3676\n",
            "Epoch 161/200\n",
            "116/116 [==============================] - 1s 7ms/step - loss: -0.8013 - acc: 0.6706 - val_loss: -0.3943 - val_acc: 0.3603\n",
            "Epoch 162/200\n",
            "116/116 [==============================] - 1s 7ms/step - loss: -0.8014 - acc: 0.6733 - val_loss: -0.3988 - val_acc: 0.3713\n",
            "Epoch 163/200\n",
            "116/116 [==============================] - 1s 7ms/step - loss: -0.8007 - acc: 0.6831 - val_loss: -0.3695 - val_acc: 0.3603\n",
            "Epoch 164/200\n",
            "116/116 [==============================] - 1s 8ms/step - loss: -0.7992 - acc: 0.6806 - val_loss: -0.3855 - val_acc: 0.3493\n",
            "Epoch 165/200\n",
            "116/116 [==============================] - 1s 7ms/step - loss: -0.7992 - acc: 0.6714 - val_loss: -0.3842 - val_acc: 0.3603\n",
            "Epoch 166/200\n",
            "116/116 [==============================] - 1s 7ms/step - loss: -0.8009 - acc: 0.6781 - val_loss: -0.3954 - val_acc: 0.3787\n",
            "Epoch 167/200\n",
            "116/116 [==============================] - 1s 7ms/step - loss: -0.8024 - acc: 0.6911 - val_loss: -0.3593 - val_acc: 0.3309\n",
            "Epoch 168/200\n",
            "116/116 [==============================] - 1s 7ms/step - loss: -0.8031 - acc: 0.6564 - val_loss: -0.3865 - val_acc: 0.3603\n",
            "Epoch 169/200\n",
            "116/116 [==============================] - 1s 7ms/step - loss: -0.8050 - acc: 0.6881 - val_loss: -0.3863 - val_acc: 0.3640\n",
            "Epoch 170/200\n",
            "116/116 [==============================] - 1s 7ms/step - loss: -0.8058 - acc: 0.6714 - val_loss: -0.3753 - val_acc: 0.3419\n",
            "Epoch 171/200\n",
            "116/116 [==============================] - 1s 7ms/step - loss: -0.8061 - acc: 0.6803 - val_loss: -0.3778 - val_acc: 0.3529\n",
            "Epoch 172/200\n",
            "116/116 [==============================] - 1s 7ms/step - loss: -0.8070 - acc: 0.6813 - val_loss: -0.3776 - val_acc: 0.3529\n",
            "Epoch 173/200\n",
            "116/116 [==============================] - 1s 7ms/step - loss: -0.8080 - acc: 0.6833 - val_loss: -0.3833 - val_acc: 0.3529\n",
            "Epoch 174/200\n",
            "116/116 [==============================] - 1s 7ms/step - loss: -0.8089 - acc: 0.6842 - val_loss: -0.3802 - val_acc: 0.3750\n",
            "Epoch 175/200\n",
            "116/116 [==============================] - 1s 7ms/step - loss: -0.8084 - acc: 0.6755 - val_loss: -0.3892 - val_acc: 0.3529\n",
            "Epoch 176/200\n",
            "116/116 [==============================] - 1s 7ms/step - loss: -0.8075 - acc: 0.6870 - val_loss: -0.3949 - val_acc: 0.3713\n",
            "Epoch 177/200\n",
            "116/116 [==============================] - 1s 7ms/step - loss: -0.8062 - acc: 0.6783 - val_loss: -0.3798 - val_acc: 0.3750\n",
            "Epoch 178/200\n",
            "116/116 [==============================] - 1s 7ms/step - loss: -0.8081 - acc: 0.6715 - val_loss: -0.3844 - val_acc: 0.3529\n",
            "Epoch 179/200\n",
            "116/116 [==============================] - 1s 7ms/step - loss: -0.8088 - acc: 0.6819 - val_loss: -0.3848 - val_acc: 0.3493\n",
            "Epoch 180/200\n",
            "116/116 [==============================] - 1s 8ms/step - loss: -0.8106 - acc: 0.6838 - val_loss: -0.3852 - val_acc: 0.3713\n",
            "Epoch 181/200\n",
            "116/116 [==============================] - 1s 8ms/step - loss: -0.8104 - acc: 0.6955 - val_loss: -0.3680 - val_acc: 0.3419\n",
            "Epoch 182/200\n",
            "116/116 [==============================] - 1s 8ms/step - loss: -0.8084 - acc: 0.6702 - val_loss: -0.3937 - val_acc: 0.3787\n",
            "Epoch 183/200\n",
            "116/116 [==============================] - 1s 8ms/step - loss: -0.8085 - acc: 0.6741 - val_loss: -0.4090 - val_acc: 0.3713\n",
            "Epoch 184/200\n",
            "116/116 [==============================] - 1s 8ms/step - loss: -0.8062 - acc: 0.6724 - val_loss: -0.3841 - val_acc: 0.3603\n",
            "Epoch 185/200\n",
            "116/116 [==============================] - 1s 8ms/step - loss: -0.8054 - acc: 0.6680 - val_loss: -0.3943 - val_acc: 0.3713\n",
            "Epoch 186/200\n",
            "116/116 [==============================] - 1s 8ms/step - loss: -0.8093 - acc: 0.6876 - val_loss: -0.4031 - val_acc: 0.3493\n",
            "Epoch 187/200\n",
            "116/116 [==============================] - 1s 8ms/step - loss: -0.8101 - acc: 0.6881 - val_loss: -0.3713 - val_acc: 0.3456\n",
            "Epoch 188/200\n",
            "116/116 [==============================] - 1s 8ms/step - loss: -0.8120 - acc: 0.6907 - val_loss: -0.3976 - val_acc: 0.3860\n",
            "Epoch 189/200\n",
            "116/116 [==============================] - 1s 8ms/step - loss: -0.8129 - acc: 0.7026 - val_loss: -0.3875 - val_acc: 0.3456\n",
            "Epoch 190/200\n",
            "116/116 [==============================] - 1s 8ms/step - loss: -0.8147 - acc: 0.6765 - val_loss: -0.3896 - val_acc: 0.3529\n",
            "Epoch 191/200\n",
            "116/116 [==============================] - 1s 8ms/step - loss: -0.8158 - acc: 0.6988 - val_loss: -0.3870 - val_acc: 0.3640\n",
            "Epoch 192/200\n",
            "116/116 [==============================] - 1s 8ms/step - loss: -0.8170 - acc: 0.6964 - val_loss: -0.3860 - val_acc: 0.3603\n",
            "Epoch 193/200\n",
            "116/116 [==============================] - 1s 8ms/step - loss: -0.8185 - acc: 0.6949 - val_loss: -0.3913 - val_acc: 0.3529\n",
            "Epoch 194/200\n",
            "116/116 [==============================] - 1s 8ms/step - loss: -0.8188 - acc: 0.6836 - val_loss: -0.3914 - val_acc: 0.3824\n",
            "Epoch 195/200\n",
            "116/116 [==============================] - 1s 8ms/step - loss: -0.8198 - acc: 0.7010 - val_loss: -0.3824 - val_acc: 0.3566\n",
            "Epoch 196/200\n",
            "116/116 [==============================] - 1s 8ms/step - loss: -0.8199 - acc: 0.6939 - val_loss: -0.3900 - val_acc: 0.3713\n",
            "Epoch 197/200\n",
            "116/116 [==============================] - 1s 8ms/step - loss: -0.8196 - acc: 0.7016 - val_loss: -0.3803 - val_acc: 0.3456\n",
            "Epoch 198/200\n",
            "116/116 [==============================] - 1s 8ms/step - loss: -0.8200 - acc: 0.7025 - val_loss: -0.3773 - val_acc: 0.3493\n",
            "Epoch 199/200\n",
            "116/116 [==============================] - 1s 7ms/step - loss: -0.8203 - acc: 0.6870 - val_loss: -0.3906 - val_acc: 0.3750\n",
            "Epoch 200/200\n",
            "116/116 [==============================] - 1s 7ms/step - loss: -0.8202 - acc: 0.6941 - val_loss: -0.3912 - val_acc: 0.3824\n"
          ],
          "name": "stdout"
        }
      ]
    },
    {
      "metadata": {
        "id": "NPNrnKhUvSfz",
        "colab_type": "code",
        "outputId": "a5d64214-392c-48e1-d048-48bec96ac155",
        "colab": {
          "base_uri": "https://localhost:8080/",
          "height": 34
        }
      },
      "cell_type": "code",
      "source": [
        "history_dict = history.history\n",
        "history_dict.keys()\n"
      ],
      "execution_count": 62,
      "outputs": [
        {
          "output_type": "execute_result",
          "data": {
            "text/plain": [
              "dict_keys(['val_loss', 'val_acc', 'loss', 'acc'])"
            ]
          },
          "metadata": {
            "tags": []
          },
          "execution_count": 62
        }
      ]
    },
    {
      "metadata": {
        "id": "lAEHbqz9gtf7",
        "colab_type": "code",
        "colab": {}
      },
      "cell_type": "code",
      "source": [
        "import matplotlib.pyplot as plt\n",
        "loss_values = history_dict['loss']\n",
        "val_loss_values = history_dict['val_loss']\n",
        "acc_values = history_dict['acc']\n",
        "val_acc_values = history_dict['val_acc']\n",
        "epochs = range(1,201)"
      ],
      "execution_count": 0,
      "outputs": []
    },
    {
      "metadata": {
        "id": "OzLK7Cj4gxVp",
        "colab_type": "code",
        "outputId": "23321021-450b-41d8-f2a9-24baa27c92a4",
        "colab": {
          "base_uri": "https://localhost:8080/",
          "height": 376
        }
      },
      "cell_type": "code",
      "source": [
        "plt.plot(epochs,loss_values,'bo', label=\"Training Loss\")\n",
        "plt.plot(epochs,val_loss_values,'b',label=\"Validation Loss\")\n",
        "plt.title('Training and Validation Loss')\n",
        "plt.xlabel('Epochs')\n",
        "plt.ylabel('Loss')\n",
        "plt.legend()\n",
        "plt.show()"
      ],
      "execution_count": 64,
      "outputs": [
        {
          "output_type": "display_data",
          "data": {
            "image/png": "[encoded data removed]",
            "text/plain": [
              "<matplotlib.figure.Figure at 0x7fcd27a947f0>"
            ]
          },
          "metadata": {
            "tags": []
          }
        }
      ]
    },
    {
      "metadata": {
        "id": "_55bPFt-g1pR",
        "colab_type": "code",
        "outputId": "95f1f24b-dc61-4860-ab82-f895ce25893c",
        "colab": {
          "base_uri": "https://localhost:8080/",
          "height": 376
        }
      },
      "cell_type": "code",
      "source": [
        "plt.plot(epochs,acc_values,'bo', label=\"Training Acc\")\n",
        "plt.plot(epochs,val_acc_values,'b',label=\"Validation Acc\")\n",
        "plt.title('Training and Validation Acc')\n",
        "plt.xlabel('Epochs')\n",
        "plt.ylabel('Acc')\n",
        "plt.legend()\n",
        "plt.show()"
      ],
      "execution_count": 65,
      "outputs": [
        {
          "output_type": "display_data",
          "data": {
            "image/png": "[encoded data removed]",
            "text/plain": [
              "<matplotlib.figure.Figure at 0x7fcd27a32b70>"
            ]
          },
          "metadata": {
            "tags": []
          }
        }
      ]
    },
    {
      "metadata": {
        "id": "UE6mQfihg7oi",
        "colab_type": "code",
        "outputId": "10454736-5663-4f79-9df9-7474965117c4",
        "colab": {
          "base_uri": "https://localhost:8080/",
          "height": 139
        }
      },
      "cell_type": "code",
      "source": [
        "# Save model\n",
        "model.save('drive/ml_apps/s2s_3L_chat.h5')"
      ],
      "execution_count": 66,
      "outputs": [
        {
          "output_type": "stream",
          "text": [
            "/usr/local/lib/python3.6/dist-packages/keras/engine/topology.py:2379: UserWarning: Layer lstm_4 was passed non-serializable keyword arguments: {'initial_state': [<tf.Tensor 'lstm_1/while/Exit_2:0' shape=(?, 100) dtype=float32>, <tf.Tensor 'lstm_1/while/Exit_3:0' shape=(?, 100) dtype=float32>]}. They will not be included in the serialized model (and thus will be missing at deserialization time).\n",
            "  str(node.arguments) + '. They will not be included '\n",
            "/usr/local/lib/python3.6/dist-packages/keras/engine/topology.py:2379: UserWarning: Layer lstm_5 was passed non-serializable keyword arguments: {'initial_state': [<tf.Tensor 'lstm_2/while/Exit_2:0' shape=(?, 100) dtype=float32>, <tf.Tensor 'lstm_2/while/Exit_3:0' shape=(?, 100) dtype=float32>]}. They will not be included in the serialized model (and thus will be missing at deserialization time).\n",
            "  str(node.arguments) + '. They will not be included '\n",
            "/usr/local/lib/python3.6/dist-packages/keras/engine/topology.py:2379: UserWarning: Layer lstm_6 was passed non-serializable keyword arguments: {'initial_state': [<tf.Tensor 'lstm_3/while/Exit_2:0' shape=(?, 100) dtype=float32>, <tf.Tensor 'lstm_3/while/Exit_3:0' shape=(?, 100) dtype=float32>]}. They will not be included in the serialized model (and thus will be missing at deserialization time).\n",
            "  str(node.arguments) + '. They will not be included '\n"
          ],
          "name": "stderr"
        }
      ]
    },
    {
      "metadata": {
        "id": "PnfMXL9pLECK",
        "colab_type": "code",
        "colab": {}
      },
      "cell_type": "code",
      "source": [
        "results = model.predict([encoder_input_data, decoder_input_data])"
      ],
      "execution_count": 0,
      "outputs": []
    },
    {
      "metadata": {
        "id": "DkIfYAvChGEp",
        "colab_type": "code",
        "outputId": "32de7918-7b4d-4c4c-e3ef-39a54092c0c6",
        "colab": {
          "base_uri": "https://localhost:8080/",
          "height": 612
        }
      },
      "cell_type": "code",
      "source": [
        "# Next: inference mode (sampling).\n",
        "# Here's the drill:\n",
        "# 1) encode input and retrieve initial decoder state\n",
        "# 2) run one step of decoder with this initial state\n",
        "# and a \"start of sequence\" token as target.\n",
        "# Output will be the next target token\n",
        "# 3) Repeat with the current target token and current states\n",
        "\n",
        "# Define sampling models\n",
        "encoder_model = Model(encoder_inputs, encoder_states)\n",
        "\n",
        "decoder_state_input_h1 = Input(shape=(latent_dim,))\n",
        "decoder_state_input_c1 = Input(shape=(latent_dim,))\n",
        "decoder_state_input_h2 = Input(shape=(latent_dim,))\n",
        "decoder_state_input_c2 = Input(shape=(latent_dim,))\n",
        "decoder_state_input_h3 = Input(shape=(latent_dim,))\n",
        "decoder_state_input_c3 = Input(shape=(latent_dim,))\n",
        "\n",
        "decoder_states_inputs1 = [decoder_state_input_h1, decoder_state_input_c1]\n",
        "decoder_states_inputs2 = [decoder_state_input_h2, decoder_state_input_c2]\n",
        "decoder_states_inputs3 = [decoder_state_input_h3, decoder_state_input_c3]\n",
        "#decoder_states_inputs = [decoder_states_inputs1,decoder_states_inputs2, decoder_states_inputs3 ]\n",
        "decoder_states_inputs = [decoder_state_input_h1, decoder_state_input_c1,decoder_state_input_h2, decoder_state_input_c2,decoder_state_input_h3, decoder_state_input_c3]\n",
        "\n",
        "dex_out = decoder_embedding(decoder_inputs)\n",
        "\n",
        "decoder_outputs1, dstate_h1, dstate_c1 = decoder_lstm1(dex_out, initial_state=decoder_states_inputs[0:2])\n",
        "decoder_outputs2, dstate_h2, dstate_c2 = decoder_lstm2(decoder_outputs1, initial_state=decoder_states_inputs[2:4])\n",
        "decoder_outputs3, dstate_h3, dstate_c3 = decoder_lstm3(decoder_outputs2, initial_state=decoder_states_inputs[4:6])\n",
        "\n",
        "decoder_states1 = [dstate_h1, dstate_c1]\n",
        "decoder_states2 = [dstate_h2, dstate_c2]\n",
        "decoder_states3 = [dstate_h1, dstate_c1]\n",
        "\n",
        "decoder_states = [dstate_h1, dstate_c1, dstate_h2, dstate_c2, dstate_h3, dstate_c3]\n",
        "# decoder_outputs2, dstate_h2, dstate_c2 = decoder_lstm2(decoder_outputs)\n",
        "# decoder_states2 = [dstate_h2, dstate_c2]\n",
        "#decoder_dense_outputs = decoder_dense(decoder_outputs)\n",
        "decoder_model = Model(\n",
        "    [decoder_inputs] + decoder_states_inputs,\n",
        "    [decoder_outputs3] + decoder_states)\n",
        "#    [decoder_dense_outputs] + decoder_states)\n",
        "decoder_model.summary()"
      ],
      "execution_count": 77,
      "outputs": [
        {
          "output_type": "stream",
          "text": [
            "__________________________________________________________________________________________________\n",
            "Layer (type)                    Output Shape         Param #     Connected to                     \n",
            "==================================================================================================\n",
            "input_2 (InputLayer)            (None, None)         0                                            \n",
            "__________________________________________________________________________________________________\n",
            "embedding_2 (Embedding)         (None, None, 100)    1000000     input_2[0][0]                    \n",
            "__________________________________________________________________________________________________\n",
            "input_15 (InputLayer)           (None, 100)          0                                            \n",
            "__________________________________________________________________________________________________\n",
            "input_16 (InputLayer)           (None, 100)          0                                            \n",
            "__________________________________________________________________________________________________\n",
            "lstm_4 (LSTM)                   [(None, None, 100),  80400       embedding_2[3][0]                \n",
            "                                                                 input_15[0][0]                   \n",
            "                                                                 input_16[0][0]                   \n",
            "__________________________________________________________________________________________________\n",
            "input_17 (InputLayer)           (None, 100)          0                                            \n",
            "__________________________________________________________________________________________________\n",
            "input_18 (InputLayer)           (None, 100)          0                                            \n",
            "__________________________________________________________________________________________________\n",
            "lstm_5 (LSTM)                   [(None, None, 100),  80400       lstm_4[3][0]                     \n",
            "                                                                 input_17[0][0]                   \n",
            "                                                                 input_18[0][0]                   \n",
            "__________________________________________________________________________________________________\n",
            "input_19 (InputLayer)           (None, 100)          0                                            \n",
            "__________________________________________________________________________________________________\n",
            "input_20 (InputLayer)           (None, 100)          0                                            \n",
            "__________________________________________________________________________________________________\n",
            "lstm_6 (LSTM)                   [(None, None, 100),  80400       lstm_5[3][0]                     \n",
            "                                                                 input_19[0][0]                   \n",
            "                                                                 input_20[0][0]                   \n",
            "==================================================================================================\n",
            "Total params: 1,241,200\n",
            "Trainable params: 241,200\n",
            "Non-trainable params: 1,000,000\n",
            "__________________________________________________________________________________________________\n"
          ],
          "name": "stdout"
        }
      ]
    },
    {
      "metadata": {
        "id": "NiOh14MbpFD6",
        "colab_type": "code",
        "outputId": "c96646ed-1490-4fc6-b416-62cb056f5c28",
        "colab": {
          "base_uri": "https://localhost:8080/",
          "height": 139
        }
      },
      "cell_type": "code",
      "source": [
        "encoder_model.save('drive/ml_apps/chat_encoder_3L_model.h5')\n",
        "decoder_model.save('drive/ml_apps/chat_decoder_3L_model.h5')"
      ],
      "execution_count": 93,
      "outputs": [
        {
          "output_type": "stream",
          "text": [
            "/usr/local/lib/python3.6/dist-packages/keras/engine/topology.py:2379: UserWarning: Layer lstm_4 was passed non-serializable keyword arguments: {'initial_state': [<tf.Tensor 'input_15:0' shape=(?, 100) dtype=float32>, <tf.Tensor 'input_16:0' shape=(?, 100) dtype=float32>]}. They will not be included in the serialized model (and thus will be missing at deserialization time).\n",
            "  str(node.arguments) + '. They will not be included '\n",
            "/usr/local/lib/python3.6/dist-packages/keras/engine/topology.py:2379: UserWarning: Layer lstm_5 was passed non-serializable keyword arguments: {'initial_state': [<tf.Tensor 'input_17:0' shape=(?, 100) dtype=float32>, <tf.Tensor 'input_18:0' shape=(?, 100) dtype=float32>]}. They will not be included in the serialized model (and thus will be missing at deserialization time).\n",
            "  str(node.arguments) + '. They will not be included '\n",
            "/usr/local/lib/python3.6/dist-packages/keras/engine/topology.py:2379: UserWarning: Layer lstm_6 was passed non-serializable keyword arguments: {'initial_state': [<tf.Tensor 'input_19:0' shape=(?, 100) dtype=float32>, <tf.Tensor 'input_20:0' shape=(?, 100) dtype=float32>]}. They will not be included in the serialized model (and thus will be missing at deserialization time).\n",
            "  str(node.arguments) + '. They will not be included '\n"
          ],
          "name": "stderr"
        }
      ]
    },
    {
      "metadata": {
        "id": "Chz7QjsdhT7Y",
        "colab_type": "code",
        "outputId": "336671da-853f-4d91-f080-35f1a19212df",
        "colab": {
          "base_uri": "https://localhost:8080/",
          "height": 306
        }
      },
      "cell_type": "code",
      "source": [
        "encoder_model.summary()"
      ],
      "execution_count": 78,
      "outputs": [
        {
          "output_type": "stream",
          "text": [
            "_________________________________________________________________\n",
            "Layer (type)                 Output Shape              Param #   \n",
            "=================================================================\n",
            "input_1 (InputLayer)         (None, None)              0         \n",
            "_________________________________________________________________\n",
            "embedding_1 (Embedding)      (None, None, 100)         1000000   \n",
            "_________________________________________________________________\n",
            "lstm_1 (LSTM)                [(None, None, 100), (None 80400     \n",
            "_________________________________________________________________\n",
            "lstm_2 (LSTM)                [(None, None, 100), (None 80400     \n",
            "_________________________________________________________________\n",
            "lstm_3 (LSTM)                [(None, None, 100), (None 80400     \n",
            "=================================================================\n",
            "Total params: 1,241,200\n",
            "Trainable params: 241,200\n",
            "Non-trainable params: 1,000,000\n",
            "_________________________________________________________________\n"
          ],
          "name": "stdout"
        }
      ]
    },
    {
      "metadata": {
        "id": "EtGT5zUqhgAX",
        "colab_type": "code",
        "colab": {}
      },
      "cell_type": "code",
      "source": [
        "# # Reverse-lookup token index to decode sequences back to\n",
        "# # something readable.\n",
        "# reverse_input_word_index = dict(\n",
        "#     (i, word) for word, i in input_token_index.items())\n",
        "# reverse_target_word_index = dict(\n",
        "#     (i, word) for word, i in target_token_index.items())"
      ],
      "execution_count": 0,
      "outputs": []
    },
    {
      "metadata": {
        "id": "Eok0QQuIs_QD",
        "colab_type": "code",
        "colab": {}
      },
      "cell_type": "code",
      "source": [
        "def word_seq(val_seq):\n",
        "  x_val_sent=[]\n",
        "  for i in range(len(val_seq)):\n",
        "    x_val_sent.append(reverse_word_index[val_seq[i]]) \n",
        "  return x_val_sent"
      ],
      "execution_count": 0,
      "outputs": []
    },
    {
      "metadata": {
        "id": "S8NdcRgYyIvA",
        "colab_type": "code",
        "outputId": "16ae146f-4b34-4a91-948b-acf527d1428e",
        "colab": {
          "base_uri": "https://localhost:8080/",
          "height": 289
        }
      },
      "cell_type": "code",
      "source": [
        "word_seq(encoder_input_data[9])"
      ],
      "execution_count": 81,
      "outputs": [
        {
          "output_type": "execute_result",
          "data": {
            "text/plain": [
              "[' ',\n",
              " ' ',\n",
              " ' ',\n",
              " ' ',\n",
              " ' ',\n",
              " ' ',\n",
              " ' ',\n",
              " ' ',\n",
              " ' ',\n",
              " ' ',\n",
              " ' ',\n",
              " ' ',\n",
              " '.',\n",
              " 'good',\n",
              " 'is',\n",
              " 'that']"
            ]
          },
          "metadata": {
            "tags": []
          },
          "execution_count": 81
        }
      ]
    },
    {
      "metadata": {
        "id": "AayRZXqshhGW",
        "colab_type": "code",
        "colab": {}
      },
      "cell_type": "code",
      "source": [
        "def decode_sequence(input_seq):\n",
        "    # Encode the input as state vectors.\n",
        "    \n",
        "    states_value = encoder_model.predict(input_seq)\n",
        "    #print(\"states_value:\", states_value)\n",
        "\n",
        "    # Generate empty target sequence of length 1.\n",
        "    \n",
        "    target_seq = np.zeros((1,1))\n",
        "    \n",
        "    # Populate the first character of target sequence with the start character.\n",
        "    \n",
        "    #target_seq[0, 0] = target_token_index['bol']\n",
        "    target_seq[0, 0] = vocab_token_index['bol']\n",
        "\n",
        "    # Sampling loop for a batch of sequences\n",
        "    # (to simplify, here we assume a batch of size 1).\n",
        "    stop_condition = False\n",
        "    decoded_sentence = ''\n",
        "    token_index = []\n",
        "    #t = 1\n",
        "    while not stop_condition:\n",
        "    #for t in range(0,max_decoder_seq_length):\n",
        "        \n",
        "        output_tokens,h1,c1,h2,c2,h3,c3 = decoder_model.predict(\n",
        "             [target_seq] + states_value)\n",
        "        \n",
        "        # Sample a token\n",
        "        #print(\"shape output_tokens:\", output_tokens.shape)\n",
        "        #sampled_token_index = np.argmax(output_tokens[0, -1, :])\n",
        "        output_word_embedding = np.reshape(output_tokens[0,-1,:],(1,latent_dim))\n",
        "        sampled_similar = cosine_similarity(output_word_embedding,embedding_matrix)\n",
        "        #print(\"Sampled similar:\", sampled_similar.shape)\n",
        "        sampled_token_index = np.argmax(sampled_similar)\n",
        "                                           \n",
        "        #sampled_word = reverse_target_word_index[sampled_token_index]\n",
        "        sampled_word = reverse_word_index[sampled_token_index]\n",
        "        \n",
        "      \n",
        "\n",
        "        if (sampled_word != 'eol'):\n",
        "          decoded_sentence += sampled_word + ' '\n",
        "          token_index.append(sampled_token_index)\n",
        "\n",
        "        # Exit condition: either hit max length\n",
        "        # or find stop character.\n",
        "        if (sampled_word == 'eol' or\n",
        "           len(decoded_sentence) > max_decoder_seq_length):\n",
        "            stop_condition = True\n",
        "\n",
        "        \n",
        "        target_seq = np.zeros((1,1))\n",
        "        target_seq[0, 0] = sampled_token_index\n",
        "\n",
        "\n",
        "        # Update states\n",
        "        states_value = [h1, c1, h2,c2, h3,c3]\n",
        "        \n",
        "    return decoded_sentence"
      ],
      "execution_count": 0,
      "outputs": []
    },
    {
      "metadata": {
        "id": "ilmKDwh9iSP7",
        "colab_type": "code",
        "outputId": "7f1bafce-0e05-4be3-9b25-80507c735498",
        "colab": {
          "base_uri": "https://localhost:8080/",
          "height": 527
        }
      },
      "cell_type": "code",
      "source": [
        "for seq_index in range(11,21):\n",
        "    # Take one sequence (part of the training set)\n",
        "    # for trying out decoding.\n",
        "    input_seq = encoder_input_data[seq_index: seq_index+1]\n",
        "    \n",
        "    decoded_sentence = decode_sequence(input_seq)\n",
        "    print('-')\n",
        "    print('Input sentence:', texts[seq_index])\n",
        "    print('Decoded sentence:', decoded_sentence)"
      ],
      "execution_count": 92,
      "outputs": [
        {
          "output_type": "stream",
          "text": [
            "-\n",
            "Input sentence: See you later.\n",
            "Decoded sentence: bye . \n",
            "-\n",
            "Input sentence: Hello\n",
            "Decoded sentence: hi \n",
            "-\n",
            "Input sentence: Hi\n",
            "Decoded sentence: how are you doing ? \n",
            "-\n",
            "Input sentence: How are you doing?\n",
            "Decoded sentence: i am doing well . \n",
            "-\n",
            "Input sentence: I am doing well.\n",
            "Decoded sentence: that is good to hear \n",
            "-\n",
            "Input sentence: That is good to hear\n",
            "Decoded sentence: yes it is . \n",
            "-\n",
            "Input sentence: Yes it is.\n",
            "Decoded sentence: know not so well you you \n",
            "-\n",
            "Input sentence: Can I help you with anything?\n",
            "Decoded sentence: yes . happy has one question . \n",
            "-\n",
            "Input sentence: Yes, I have a question.\n",
            "Decoded sentence: what is your question ? \n",
            "-\n",
            "Input sentence: What is your question?\n",
            "Decoded sentence: could you borrow the cup is sugar ? \n"
          ],
          "name": "stdout"
        }
      ]
    },
    {
      "metadata": {
        "id": "aJH1v5TCiel6",
        "colab_type": "code",
        "colab": {}
      },
      "cell_type": "code",
      "source": [
        "def prepare_text(input_text):\n",
        "  tokens_in=[]\n",
        "  input_data = np.zeros(\n",
        "    (1,max_encoder_seq_length),\n",
        "    dtype='float32')\n",
        "  tokens_in = nltk.word_tokenize(input_text.lower())\n",
        "  for i in range(len(tokens_in)):\n",
        "    #print(tokens_in[i])\n",
        "    if tokens_in[i] in input_words:\n",
        "     \n",
        "      input_data[0,i] = vocab_token_index[tokens_in[i]]\n",
        "    else:\n",
        "      input_data[0,i] = vocab_token_index['.']\n",
        "  input_data = np.fliplr(input_data)\n",
        "  return input_data"
      ],
      "execution_count": 0,
      "outputs": []
    },
    {
      "metadata": {
        "id": "Yp09Q84Nz_Dq",
        "colab_type": "code",
        "outputId": "5c669d1c-9036-40b7-b5aa-ac6e4640853c",
        "colab": {
          "base_uri": "https://localhost:8080/",
          "height": 68
        }
      },
      "cell_type": "code",
      "source": [
        "data = prepare_text(\"Hello\")\n",
        "print(data[0,], data.shape)"
      ],
      "execution_count": 89,
      "outputs": [
        {
          "output_type": "stream",
          "text": [
            "hello\n",
            "[  0.   0.   0.   0.   0.   0.   0.   0.   0.   0.   0.   0.   0.   0.\n",
            "   0. 127.] (1, 16)\n"
          ],
          "name": "stdout"
        }
      ]
    },
    {
      "metadata": {
        "id": "FFoIsrfa0HGh",
        "colab_type": "code",
        "outputId": "2385f16a-fd02-48d2-d18f-1c9a74bfbc7c",
        "colab": {
          "base_uri": "https://localhost:8080/",
          "height": 51
        }
      },
      "cell_type": "code",
      "source": [
        "new_sentence = decode_sequence(data)\n",
        "print('-')\n",
        "#print('Input sentence:', )\n",
        "print('Decoded sentence:', new_sentence)"
      ],
      "execution_count": 90,
      "outputs": [
        {
          "output_type": "stream",
          "text": [
            "-\n",
            "Decoded sentence: hi \n"
          ],
          "name": "stdout"
        }
      ]
    },
    {
      "metadata": {
        "id": "l_pXra59MTaD",
        "colab_type": "code",
        "colab": {
          "base_uri": "https://localhost:8080/",
          "height": 1703
        },
        "outputId": "4d17bb59-afd6-4a1c-d3b0-bb2633aca401"
      },
      "cell_type": "code",
      "source": [
        "end_session = False\n",
        "of = open('drive/ml_apps/user_input2.txt','a')\n",
        "while not end_session:\n",
        "    x = input(\"Enter >>\");\n",
        "    #print(\">>\", x)\n",
        "    if x.lower() == \"bye\":\n",
        "      print(\">>\", x)\n",
        "      end_session = False\n",
        "      of.close()\n",
        "      break\n",
        "    in_text = prepare_text(x)\n",
        "    prediction =decode_sequence(in_text)\n",
        "    print (\"Response >>\",prediction)\n",
        "    fdbk = input(\"Is this response satisfactory? (Y/N)>>\")\n",
        "    if fdbk == \"N\":\n",
        "      gd_response = input(\"Please enter expected response>>\")\n",
        "      output = x + ' \\t ' + gd_response + '\\n'\n",
        "      of.write(output)\n",
        "\n",
        "      \n",
        "    "
      ],
      "execution_count": 96,
      "outputs": [
        {
          "output_type": "stream",
          "text": [
            "Enter >>Hello\n",
            "Response >> hi \n",
            "Is this response satisfactory? (Y/N)>>Y\n",
            "Enter >>How are you doing?\n",
            "Response >> i am doing well . \n",
            "Is this response satisfactory? (Y/N)>>Y\n",
            "Enter >>Can you help me?\n",
            "Response >> know so now you is ? \n",
            "Is this response satisfactory? (Y/N)>>N\n",
            "Please enter expected response>>I can try.\n",
            "Enter >>I want to learn a language.\n",
            "Response >> have you not if only do . \n",
            "Is this response satisfactory? (Y/N)>>N\n",
            "Please enter expected response>>What language?\n",
            "Enter >>Some programming language.\n",
            "Response >> bye what . \n",
            "Is this response satisfactory? (Y/N)>>N\n",
            "Please enter expected response>>Like python.\n",
            "Enter >>Do you know python?\n",
            "Response >> i 'm are better . \n",
            "Is this response satisfactory? (Y/N)>>N\n",
            "Please enter expected response>>A little\n",
            "Enter >>What about Java?\n",
            "Response >> i what is to myself . \n",
            "Is this response satisfactory? (Y/N)>>N\n",
            "Please enter expected response>>Not much really. \n",
            "Enter >>Do you like movies?\n",
            "Response >> what of kind you ? \n",
            "Is this response satisfactory? (Y/N)>>Of what kind?\n",
            "Enter >>Horror movies?\n",
            "Response >> know you my of use ? \n",
            "Is this response satisfactory? (Y/N)>>N\n",
            "Please enter expected response>>I do not like horror movies?\n",
            "Enter >>Do you like comedies?\n",
            "Response >> that is good to tell \n",
            "Is this response satisfactory? (Y/N)>>N\n",
            "Please enter expected response>>What do you like?\n",
            "Enter >>What do you like?\n",
            "Response >> what is way you \n",
            "Is this response satisfactory? (Y/N)>>What do you want me to like?\n",
            "Enter >>You tell me.\n",
            "Response >> i you not . \n",
            "Is this response satisfactory? (Y/N)>>N\n",
            "Please enter expected response>>I will not. \n",
            "Enter >>Why?\n",
            "Response >> i \n",
            "Is this response satisfactory? (Y/N)>>N\n",
            "Please enter expected response>>Because\n",
            "Enter >>I am baking a cake.\n",
            "Response >> what what is a cake ? \n",
            "Is this response satisfactory? (Y/N)>>Y\n",
            "Enter >>A cake is a food.\n",
            "Response >> what is you . \n",
            "Is this response satisfactory? (Y/N)>>Y\n",
            "Enter >>I am a human being.\n",
            "Response >> that is you do to why . \n",
            "Is this response satisfactory? (Y/N)>>N\n",
            "Please enter expected response>>Good to know. \n",
            "Enter >>I like to eat cake.\n",
            "Response >> what is you those you like so ? \n",
            "Is this response satisfactory? (Y/N)>>N\n",
            "Please enter expected response>>I don't like cakes.\n",
            "Enter >>Why not?\n",
            "Response >> i am not authorized . \n",
            "Is this response satisfactory? (Y/N)>>Y\n",
            "Enter >>I understand.\n",
            "Response >> you you did the what are if . \n",
            "Is this response satisfactory? (Y/N)>>N\n",
            "Please enter expected response>>Thanks for understanding.\n",
            "Enter >>What can you do?\n",
            "Response >> i i complicated . \n",
            "Is this response satisfactory? (Y/N)>>N\n",
            "Please enter expected response>>It is complicated.\n",
            "Enter >>What is life?\n",
            "Response >> you not so is him . \n",
            "Is this response satisfactory? (Y/N)>>N\n",
            "Please enter expected response>>That is a difficult question.\n",
            "Enter >>What is your favorite book?\n",
            "Response >> i know not not . \n",
            "Is this response satisfactory? (Y/N)>>Y\n",
            "Enter >>what is your favorite color?\n",
            "Response >> blue \n",
            "Is this response satisfactory? (Y/N)>>Y\n",
            "Enter >>Why not red?\n",
            "Response >> that is an absurd question . \n",
            "Is this response satisfactory? (Y/N)>>I don't think so\n",
            "Enter >>I don't think so\n",
            "Response >> i know do not not this you . \n",
            "Is this response satisfactory? (Y/N)>>N\n",
            "Please enter expected response>>That's your choice.\n",
            "Enter >>What kind of movies do you like?\n",
            "Response >> alice in wonderland \n",
            "Is this response satisfactory? (Y/N)>>Y\n",
            "Enter >>I like it too. \n",
            "Response >> what not you not not not way to do \n",
            "Is this response satisfactory? (Y/N)>>bye\n",
            "Enter >>bye\n",
            ">> bye\n"
          ],
          "name": "stdout"
        }
      ]
    },
    {
      "metadata": {
        "id": "tO_DqA18QlyB",
        "colab_type": "code",
        "colab": {}
      },
      "cell_type": "code",
      "source": [
        ""
      ],
      "execution_count": 0,
      "outputs": []
    }
  ]
}